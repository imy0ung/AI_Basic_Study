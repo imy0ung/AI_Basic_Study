{
  "nbformat": 4,
  "nbformat_minor": 0,
  "metadata": {
    "colab": {
      "provenance": [],
      "gpuType": "T4",
      "authorship_tag": "ABX9TyOsQ7hYiHw6z0b0LLqS61Tx",
      "include_colab_link": true
    },
    "kernelspec": {
      "name": "python3",
      "display_name": "Python 3"
    },
    "language_info": {
      "name": "python"
    },
    "accelerator": "GPU"
  },
  "cells": [
    {
      "cell_type": "markdown",
      "metadata": {
        "id": "view-in-github",
        "colab_type": "text"
      },
      "source": [
        "<a href=\"https://colab.research.google.com/github/imy0ung/AI_Basic_Study/blob/main/Pytorch/Pytorch_5.ipynb\" target=\"_parent\"><img src=\"https://colab.research.google.com/assets/colab-badge.svg\" alt=\"Open In Colab\"/></a>"
      ]
    },
    {
      "cell_type": "markdown",
      "source": [
        "# **Optimization**\n",
        "* Forwardpropagation을 통해 Loss을 계산하였다면, loss function을 기준으로 최적의 가중치를 SGD를 이용해 구해야함.\n",
        "* 최적의 가중치를 찾는 과정에서 우리는 Hyperparmeter(수정할 수 있는 매겨변수)을 통해 SGD의 여러 방법을 설정해 줄 수 있음\n",
        "* 업데이트 할 가중치는 Backpropation을 통해 Update됨"
      ],
      "metadata": {
        "id": "VT9qnkzge2jG"
      }
    },
    {
      "cell_type": "code",
      "execution_count": 2,
      "metadata": {
        "id": "ZnJBjbqhePRn"
      },
      "outputs": [],
      "source": [
        "import torch\n",
        "from torch import nn\n",
        "from torch.utils.data import DataLoader\n",
        "from torchvision import datasets\n",
        "from torchvision.transforms import ToTensor"
      ]
    },
    {
      "cell_type": "code",
      "source": [
        "training_data = datasets.FashionMNIST(\n",
        "    root = \"data\",\n",
        "    train = True,\n",
        "    download = True,\n",
        "    transform = ToTensor()\n",
        ")\n",
        "\n",
        "test_data = datasets.FashionMNIST(\n",
        "    root = \"data\",\n",
        "    train = True,\n",
        "    download = True,\n",
        "    transform = ToTensor()\n",
        ")\n",
        "\n",
        "train_dataloader = DataLoader(training_data, batch_size = 64)\n",
        "test_dataloader = DataLoader(test_data, batch_size=64)\n",
        "\n",
        "class NeuralNetwork(nn.Module) :\n",
        "    def __init__(self) :\n",
        "      super().__init__()\n",
        "      self.flatten = nn.Flatten()\n",
        "      self.linear_relu_stack = nn.Sequential(\n",
        "        nn.Linear(28*28, 512),\n",
        "        nn.ReLU(),\n",
        "        nn.Linear(512,512),\n",
        "        nn.ReLU(),\n",
        "        nn.Linear(512,10)\n",
        "    )\n",
        "    def forward(self,x) :\n",
        "      x = self.flatten(x)\n",
        "      logits = self.linear_relu_stack(x)\n",
        "      return logits\n",
        "\n",
        "model = NeuralNetwork()"
      ],
      "metadata": {
        "id": "KlNK-ktCex6n"
      },
      "execution_count": 18,
      "outputs": []
    },
    {
      "cell_type": "markdown",
      "source": [
        "### **hyperparmeters**\n",
        "\n",
        "* epoch : 데이터셋을 반복하는 횟수\n",
        "* batch size : 신경망을 통해 전파될 데이터 sample\n",
        "* learning rate(step-size) : 각 batch/epoch에서 모델의 매개변수를 조절하는 비율"
      ],
      "metadata": {
        "id": "NgB11sow56hu"
      }
    },
    {
      "cell_type": "code",
      "source": [
        "learning_rate = 1e-3\n",
        "batch_size = 64\n",
        "epochs = 5"
      ],
      "metadata": {
        "id": "ydLdjy7b6bB-"
      },
      "execution_count": 4,
      "outputs": []
    },
    {
      "cell_type": "code",
      "source": [
        "# loss function\n",
        "loss_fn = nn.CrossEntropyLoss()"
      ],
      "metadata": {
        "id": "AlqT141D62ne"
      },
      "execution_count": 5,
      "outputs": []
    },
    {
      "cell_type": "code",
      "source": [
        "# optimizer\n",
        "optimizer = torch.optim.SGD(model.parameters(), lr=learning_rate)"
      ],
      "metadata": {
        "id": "5jFOq6rxBKmk"
      },
      "execution_count": 6,
      "outputs": []
    },
    {
      "cell_type": "code",
      "source": [
        "def train_loop(dataloader, model, loss_fn, optimizer) :\n",
        "    # dataloader로 불러온 데이터의 길이를 셈\n",
        "    size = len(dataloader.dataset)\n",
        "    # model을 학습 모드로 설정\n",
        "    model.train()\n",
        "\n",
        "    for batch, (X,y) in enumerate(dataloader) : # X는 입력데이터 y는 label, batch는 index (shuffle을 안했으므로, 10개씩 나옴 )\n",
        "      # forwardpropagation으로 loss을 구함\n",
        "      pred = model(X)\n",
        "      loss = loss_fn(pred, y)\n",
        "\n",
        "      # backpropagation\n",
        "      loss.backward()\n",
        "      optimizer.step()\n",
        "      optimizer.zero_grad()\n",
        "\n",
        "      if batch % 100 == 0 :\n",
        "        loss, current = loss.item(), batch * batch_size + len(X)\n",
        "        print(f\"loss : {loss:>7f} [{current:>5d}/{size:>5d}]\")\n",
        "\n",
        "def test_loop(dataloader, model, loss_fn) :\n",
        "  # model을 평가 모드로 설정합니다.\n",
        "  model.eval()\n",
        "  size = len(dataloader.dataset)\n",
        "  num_batches = len(dataloader)\n",
        "  test_loss, correct = 0, 0\n",
        "\n",
        "  with torch.no_grad() :\n",
        "    for X, y in dataloader :\n",
        "      pred = model(X)\n",
        "      test_loss += loss_fn(pred,y).item()\n",
        "      correct += (pred.argmax(1) == y).type(torch.float).sum().item()\n",
        "\n",
        "    test_loss /= num_batches\n",
        "    correct /= size\n",
        "    print(f\"Test Error: \\n Accuracy: {(100*correct):>0.1f}%, Avg loss: {test_loss:>8f} \\n\")"
      ],
      "metadata": {
        "id": "TAMScl2ABsRu"
      },
      "execution_count": 20,
      "outputs": []
    },
    {
      "cell_type": "code",
      "source": [
        "loss_fn = nn.CrossEntropyLoss()\n",
        "optimizer = torch.optim.SGD(model.parameters(), lr=learning_rate)\n",
        "\n",
        "epochs = 10\n",
        "for t in range(epochs):\n",
        "    print(f\"Epoch {t+1}\\n-------------------------------\")\n",
        "    train_loop(train_dataloader, model, loss_fn, optimizer)\n",
        "    test_loop(test_dataloader, model, loss_fn)\n",
        "print(\"Done!\")"
      ],
      "metadata": {
        "colab": {
          "base_uri": "https://localhost:8080/"
        },
        "id": "mKiv8z5hGIdP",
        "outputId": "e7738d34-b3d3-48f6-f3c7-8c2d8d7b9306"
      },
      "execution_count": 21,
      "outputs": [
        {
          "output_type": "stream",
          "name": "stdout",
          "text": [
            "Epoch 1\n",
            "-------------------------------\n",
            "loss : 2.305376 [   64/60000]\n",
            "loss : 2.287003 [ 6464/60000]\n",
            "loss : 2.269340 [12864/60000]\n",
            "loss : 2.264924 [19264/60000]\n",
            "loss : 2.250109 [25664/60000]\n",
            "loss : 2.227501 [32064/60000]\n",
            "loss : 2.231972 [38464/60000]\n",
            "loss : 2.197610 [44864/60000]\n",
            "loss : 2.190740 [51264/60000]\n",
            "loss : 2.177950 [57664/60000]\n",
            "Test Error: \n",
            " Accuracy: 48.3%, Avg loss: 2.157796 \n",
            "\n",
            "Epoch 2\n",
            "-------------------------------\n",
            "loss : 2.162119 [   64/60000]\n",
            "loss : 2.150490 [ 6464/60000]\n",
            "loss : 2.096777 [12864/60000]\n",
            "loss : 2.120107 [19264/60000]\n",
            "loss : 2.070513 [25664/60000]\n",
            "loss : 2.018619 [32064/60000]\n",
            "loss : 2.048111 [38464/60000]\n",
            "loss : 1.968239 [44864/60000]\n",
            "loss : 1.970630 [51264/60000]\n",
            "loss : 1.924470 [57664/60000]\n",
            "Test Error: \n",
            " Accuracy: 51.7%, Avg loss: 1.899566 \n",
            "\n",
            "Epoch 3\n",
            "-------------------------------\n",
            "loss : 1.932652 [   64/60000]\n",
            "loss : 1.900500 [ 6464/60000]\n",
            "loss : 1.785226 [12864/60000]\n",
            "loss : 1.827657 [19264/60000]\n",
            "loss : 1.724787 [25664/60000]\n",
            "loss : 1.679764 [32064/60000]\n",
            "loss : 1.709872 [38464/60000]\n",
            "loss : 1.608430 [44864/60000]\n",
            "loss : 1.629182 [51264/60000]\n",
            "loss : 1.543016 [57664/60000]\n",
            "Test Error: \n",
            " Accuracy: 59.8%, Avg loss: 1.533816 \n",
            "\n",
            "Epoch 4\n",
            "-------------------------------\n",
            "loss : 1.608911 [   64/60000]\n",
            "loss : 1.569214 [ 6464/60000]\n",
            "loss : 1.416528 [12864/60000]\n",
            "loss : 1.483371 [19264/60000]\n",
            "loss : 1.372390 [25664/60000]\n",
            "loss : 1.366362 [32064/60000]\n",
            "loss : 1.387558 [38464/60000]\n",
            "loss : 1.311928 [44864/60000]\n",
            "loss : 1.340326 [51264/60000]\n",
            "loss : 1.254163 [57664/60000]\n",
            "Test Error: \n",
            " Accuracy: 64.9%, Avg loss: 1.258539 \n",
            "\n",
            "Epoch 5\n",
            "-------------------------------\n",
            "loss : 1.346058 [   64/60000]\n",
            "loss : 1.325660 [ 6464/60000]\n",
            "loss : 1.159089 [12864/60000]\n",
            "loss : 1.255126 [19264/60000]\n",
            "loss : 1.138067 [25664/60000]\n",
            "loss : 1.160819 [32064/60000]\n",
            "loss : 1.185957 [38464/60000]\n",
            "loss : 1.125285 [44864/60000]\n",
            "loss : 1.158521 [51264/60000]\n",
            "loss : 1.085241 [57664/60000]\n",
            "Test Error: \n",
            " Accuracy: 66.3%, Avg loss: 1.086284 \n",
            "\n",
            "Epoch 6\n",
            "-------------------------------\n",
            "loss : 1.168800 [   64/60000]\n",
            "loss : 1.169702 [ 6464/60000]\n",
            "loss : 0.987822 [12864/60000]\n",
            "loss : 1.113058 [19264/60000]\n",
            "loss : 0.990850 [25664/60000]\n",
            "loss : 1.022638 [32064/60000]\n",
            "loss : 1.060629 [38464/60000]\n",
            "loss : 1.006073 [44864/60000]\n",
            "loss : 1.040276 [51264/60000]\n",
            "loss : 0.979569 [57664/60000]\n",
            "Test Error: \n",
            " Accuracy: 67.5%, Avg loss: 0.974828 \n",
            "\n",
            "Epoch 7\n",
            "-------------------------------\n",
            "loss : 1.045352 [   64/60000]\n",
            "loss : 1.068455 [ 6464/60000]\n",
            "loss : 0.869914 [12864/60000]\n",
            "loss : 1.019432 [19264/60000]\n",
            "loss : 0.898281 [25664/60000]\n",
            "loss : 0.925604 [32064/60000]\n",
            "loss : 0.978278 [38464/60000]\n",
            "loss : 0.928850 [44864/60000]\n",
            "loss : 0.959047 [51264/60000]\n",
            "loss : 0.909648 [57664/60000]\n",
            "Test Error: \n",
            " Accuracy: 68.8%, Avg loss: 0.898935 \n",
            "\n",
            "Epoch 8\n",
            "-------------------------------\n",
            "loss : 0.955217 [   64/60000]\n",
            "loss : 0.999049 [ 6464/60000]\n",
            "loss : 0.785374 [12864/60000]\n",
            "loss : 0.953651 [19264/60000]\n",
            "loss : 0.837282 [25664/60000]\n",
            "loss : 0.854613 [32064/60000]\n",
            "loss : 0.920095 [38464/60000]\n",
            "loss : 0.877378 [44864/60000]\n",
            "loss : 0.900511 [51264/60000]\n",
            "loss : 0.860039 [57664/60000]\n",
            "Test Error: \n",
            " Accuracy: 70.0%, Avg loss: 0.844277 \n",
            "\n",
            "Epoch 9\n",
            "-------------------------------\n",
            "loss : 0.886578 [   64/60000]\n",
            "loss : 0.947776 [ 6464/60000]\n",
            "loss : 0.722101 [12864/60000]\n",
            "loss : 0.905197 [19264/60000]\n",
            "loss : 0.794060 [25664/60000]\n",
            "loss : 0.801003 [32064/60000]\n",
            "loss : 0.876319 [38464/60000]\n",
            "loss : 0.841337 [44864/60000]\n",
            "loss : 0.856980 [51264/60000]\n",
            "loss : 0.822612 [57664/60000]\n",
            "Test Error: \n",
            " Accuracy: 71.3%, Avg loss: 0.802833 \n",
            "\n",
            "Epoch 10\n",
            "-------------------------------\n",
            "loss : 0.832174 [   64/60000]\n",
            "loss : 0.907019 [ 6464/60000]\n",
            "loss : 0.672861 [12864/60000]\n",
            "loss : 0.867918 [19264/60000]\n",
            "loss : 0.761510 [25664/60000]\n",
            "loss : 0.759616 [32064/60000]\n",
            "loss : 0.841373 [38464/60000]\n",
            "loss : 0.814716 [44864/60000]\n",
            "loss : 0.823259 [51264/60000]\n",
            "loss : 0.792627 [57664/60000]\n",
            "Test Error: \n",
            " Accuracy: 72.6%, Avg loss: 0.769955 \n",
            "\n",
            "Done!\n"
          ]
        }
      ]
    }
  ]
}