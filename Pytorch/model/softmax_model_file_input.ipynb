{
  "nbformat": 4,
  "nbformat_minor": 0,
  "metadata": {
    "colab": {
      "provenance": [],
      "authorship_tag": "ABX9TyNEDV4fytJ6q+RbO5t9gcQz",
      "include_colab_link": true
    },
    "kernelspec": {
      "name": "python3",
      "display_name": "Python 3"
    },
    "language_info": {
      "name": "python"
    }
  },
  "cells": [
    {
      "cell_type": "markdown",
      "metadata": {
        "id": "view-in-github",
        "colab_type": "text"
      },
      "source": [
        "<a href=\"https://colab.research.google.com/github/imy0ung/AI_Basic_Study/blob/main/Pytorch/model/softmax_model_file_input.ipynb\" target=\"_parent\"><img src=\"https://colab.research.google.com/assets/colab-badge.svg\" alt=\"Open In Colab\"/></a>"
      ]
    },
    {
      "cell_type": "code",
      "execution_count": 1,
      "metadata": {
        "colab": {
          "base_uri": "https://localhost:8080/"
        },
        "id": "KiOp8LXCqgNW",
        "outputId": "c5aa4177-ba92-4e65-cbb5-4a54058def87"
      },
      "outputs": [
        {
          "output_type": "stream",
          "name": "stdout",
          "text": [
            "Cloning into 'data'...\n",
            "remote: Enumerating objects: 6, done.\u001b[K\n",
            "remote: Counting objects: 100% (6/6), done.\u001b[K\n",
            "remote: Compressing objects: 100% (6/6), done.\u001b[K\n",
            "remote: Total 6 (delta 0), reused 6 (delta 0), pack-reused 0 (from 0)\u001b[K\n",
            "Receiving objects: 100% (6/6), 28.74 KiB | 1.06 MiB/s, done.\n"
          ]
        }
      ],
      "source": [
        "!git clone https://github.com/myunghakLee/data.git"
      ]
    },
    {
      "cell_type": "code",
      "source": [
        "import torch\n",
        "from torch import nn\n",
        "from torch.utils.data import DataLoader\n",
        "import numpy as np\n",
        "import pandas as pd"
      ],
      "metadata": {
        "id": "aYs35rTPqmLt"
      },
      "execution_count": 3,
      "outputs": []
    },
    {
      "cell_type": "code",
      "source": [
        "xy = np.loadtxt('/content/data/data-04-zoo.csv',delimiter=',', dtype = np.float32)\n",
        "x_data = xy[:,0:-1]\n",
        "y_data = xy[:,-1]\n",
        "\n",
        "print(x_data.shape, y_data.shape)\n",
        "\n",
        "print(y_data)"
      ],
      "metadata": {
        "colab": {
          "base_uri": "https://localhost:8080/"
        },
        "id": "OUQg9oNtrFLV",
        "outputId": "bfb06c91-b153-437a-f06b-fcd330e543ea"
      },
      "execution_count": 7,
      "outputs": [
        {
          "output_type": "stream",
          "name": "stdout",
          "text": [
            "(101, 16) (101,)\n",
            "[0. 0. 3. 0. 0. 0. 0. 3. 3. 0. 0. 1. 3. 6. 6. 6. 1. 0. 3. 0. 1. 1. 0. 1.\n",
            " 5. 4. 4. 0. 0. 0. 5. 0. 0. 1. 3. 0. 0. 1. 3. 5. 5. 1. 5. 1. 0. 0. 6. 0.\n",
            " 0. 0. 0. 5. 4. 6. 0. 0. 1. 1. 1. 1. 3. 3. 2. 0. 0. 0. 0. 0. 0. 0. 0. 1.\n",
            " 6. 3. 0. 0. 2. 6. 1. 1. 2. 6. 3. 1. 0. 6. 3. 1. 5. 4. 2. 2. 3. 0. 0. 1.\n",
            " 0. 5. 0. 6. 1.]\n"
          ]
        }
      ]
    },
    {
      "cell_type": "code",
      "source": [
        "nb_classes = 7\n",
        "\n",
        "X = torch.from_numpy(x_data)\n",
        "Y = torch.from_numpy(y_data).long().view(-1) # Cross Entropy Loss을 위하여 1차원으로 바꿔줌"
      ],
      "metadata": {
        "id": "gGr5T1qdraGE"
      },
      "execution_count": 17,
      "outputs": []
    },
    {
      "cell_type": "code",
      "source": [
        "class SoftmaxClassifier(nn.Module) :\n",
        "  def __init__(self) :\n",
        "    super().__init__()\n",
        "    self.linear = nn.Linear(16,nb_classes)\n",
        "    self.softmax = nn.Softmax()\n",
        "\n",
        "  def forward(self,x) :\n",
        "    return self.softmax(self.linear(x))"
      ],
      "metadata": {
        "id": "Ak2ocK62sBqc"
      },
      "execution_count": 18,
      "outputs": []
    },
    {
      "cell_type": "code",
      "source": [
        "model = SoftmaxClassifier()\n",
        "optimizer = torch.optim.SGD(model.parameters(), lr = 0.1)\n",
        "loss_fn = nn.CrossEntropyLoss()\n",
        "epochs = 2001"
      ],
      "metadata": {
        "id": "MhFdaVGpstMf"
      },
      "execution_count": 23,
      "outputs": []
    },
    {
      "cell_type": "code",
      "source": [
        "for step in range(epochs) :\n",
        "  prediction = model(X)\n",
        "  loss = loss_fn(prediction, Y)\n",
        "\n",
        "  loss.backward()\n",
        "  optimizer.step()\n",
        "  optimizer.zero_grad()\n",
        "\n",
        "  prediction = torch.argmax(prediction,1)\n",
        "  accuracy = (prediction == Y).float().mean()\n",
        "\n",
        "  if step%100 == 0 :\n",
        "    print(f\"Epoch : {step}, Loss : {loss:.3f}, ACC : {accuracy.item():.2%}\")"
      ],
      "metadata": {
        "colab": {
          "base_uri": "https://localhost:8080/"
        },
        "id": "YyC3b9t4tTN-",
        "outputId": "ad6db8cd-4284-485c-d962-7e7a347db22a"
      },
      "execution_count": 25,
      "outputs": [
        {
          "output_type": "stream",
          "name": "stdout",
          "text": [
            "Epoch : 0, Loss : 1.360, ACC : 83.17%\n",
            "Epoch : 100, Loss : 1.357, ACC : 83.17%\n",
            "Epoch : 200, Loss : 1.355, ACC : 83.17%\n",
            "Epoch : 300, Loss : 1.353, ACC : 83.17%\n",
            "Epoch : 400, Loss : 1.351, ACC : 83.17%\n",
            "Epoch : 500, Loss : 1.350, ACC : 83.17%\n",
            "Epoch : 600, Loss : 1.348, ACC : 83.17%\n",
            "Epoch : 700, Loss : 1.347, ACC : 83.17%\n",
            "Epoch : 800, Loss : 1.345, ACC : 83.17%\n",
            "Epoch : 900, Loss : 1.344, ACC : 83.17%\n",
            "Epoch : 1000, Loss : 1.343, ACC : 83.17%\n",
            "Epoch : 1100, Loss : 1.342, ACC : 83.17%\n",
            "Epoch : 1200, Loss : 1.341, ACC : 83.17%\n",
            "Epoch : 1300, Loss : 1.340, ACC : 83.17%\n",
            "Epoch : 1400, Loss : 1.339, ACC : 83.17%\n",
            "Epoch : 1500, Loss : 1.338, ACC : 83.17%\n",
            "Epoch : 1600, Loss : 1.336, ACC : 83.17%\n",
            "Epoch : 1700, Loss : 1.335, ACC : 84.16%\n",
            "Epoch : 1800, Loss : 1.333, ACC : 84.16%\n",
            "Epoch : 1900, Loss : 1.331, ACC : 84.16%\n",
            "Epoch : 2000, Loss : 1.329, ACC : 85.15%\n"
          ]
        }
      ]
    }
  ]
}