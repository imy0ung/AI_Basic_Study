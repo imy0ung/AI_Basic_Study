{
  "nbformat": 4,
  "nbformat_minor": 0,
  "metadata": {
    "colab": {
      "provenance": [],
      "authorship_tag": "ABX9TyM95qXWsW9P1ggORdmOr5hU",
      "include_colab_link": true
    },
    "kernelspec": {
      "name": "python3",
      "display_name": "Python 3"
    },
    "language_info": {
      "name": "python"
    }
  },
  "cells": [
    {
      "cell_type": "markdown",
      "metadata": {
        "id": "view-in-github",
        "colab_type": "text"
      },
      "source": [
        "<a href=\"https://colab.research.google.com/github/imy0ung/AI_Basic_Study/blob/main/model/MultiVariableLinearRegression.ipynb\" target=\"_parent\"><img src=\"https://colab.research.google.com/assets/colab-badge.svg\" alt=\"Open In Colab\"/></a>"
      ]
    },
    {
      "cell_type": "code",
      "execution_count": 1,
      "metadata": {
        "id": "yh_l9-63xqPw"
      },
      "outputs": [],
      "source": [
        "import torch\n",
        "from torch import nn\n",
        "from torch.utils.data import DataLoader"
      ]
    },
    {
      "cell_type": "code",
      "source": [
        "x_data = [[73., 80., 75.], [93., 88., 93.],\n",
        "          [89., 91., 90.], [96., 98., 100.], [73., 66., 70.]]\n",
        "y_data = [[152.], [185.], [180.], [196.], [142.]]\n",
        "\n",
        "X = torch.FloatTensor(x_data)\n",
        "Y = torch.FloatTensor(y_data)"
      ],
      "metadata": {
        "id": "YLZ10CTyyIaT"
      },
      "execution_count": 2,
      "outputs": []
    },
    {
      "cell_type": "code",
      "source": [
        "class MultiVariableLinearRegression(nn.Module) :\n",
        "  def __init__(self) :\n",
        "    super().__init__()\n",
        "    self.linear = nn.Linear(3,1)\n",
        "\n",
        "  def forward(self,x) :\n",
        "    return self.linear(x)"
      ],
      "metadata": {
        "id": "n8m63W8tygpT"
      },
      "execution_count": 6,
      "outputs": []
    },
    {
      "cell_type": "code",
      "source": [
        "model = MultiVariableLinearRegression()"
      ],
      "metadata": {
        "id": "hwf1vEadywQ1"
      },
      "execution_count": 7,
      "outputs": []
    },
    {
      "cell_type": "code",
      "source": [
        "criterion = nn.MSELoss() # nn.functional.loss는 instance 생성없이 사용 가능함, nn.MSELoss()는 instance를 생성해야함\n",
        "optimizer = torch.optim.SGD(model.parameters(),lr =1e-5)\n",
        "epochs = 2000"
      ],
      "metadata": {
        "id": "VKU4yDT7y0Zi"
      },
      "execution_count": 12,
      "outputs": []
    },
    {
      "cell_type": "code",
      "source": [
        "for epoch in range(epochs + 1) :\n",
        "  model.train()\n",
        "  prediction = model(X)\n",
        "  loss = criterion(prediction,Y)\n",
        "\n",
        "  loss.backward()\n",
        "  optimizer.step()\n",
        "  optimizer.zero_grad()\n",
        "\n",
        "  if epoch % 100 == 0 :\n",
        "    print(f\"epoch {epoch}, loss : {loss.item():.4f}, prediction : {prediction.detach().numpy()}\")\n",
        "    # tensor는 기울기를 추적하고 있기때문에 prediction.detach().numpy()로 해야함"
      ],
      "metadata": {
        "colab": {
          "base_uri": "https://localhost:8080/"
        },
        "id": "7jUMJAruy-ZU",
        "outputId": "b1bdf65a-ef00-4ccf-e70e-951bb8c73225"
      },
      "execution_count": 22,
      "outputs": [
        {
          "output_type": "stream",
          "name": "stdout",
          "text": [
            "epoch 0, loss : 0.4421, prediction : [[151.1834 ]\n",
            " [184.76048]\n",
            " [180.38708]\n",
            " [196.95943]\n",
            " [141.35506]]\n",
            "epoch 100, loss : 0.4404, prediction : [[151.1817 ]\n",
            " [184.7619 ]\n",
            " [180.38687]\n",
            " [196.95676]\n",
            " [141.35905]]\n",
            "epoch 200, loss : 0.4388, prediction : [[151.18007]\n",
            " [184.76328]\n",
            " [180.3867 ]\n",
            " [196.95409]\n",
            " [141.36299]]\n",
            "epoch 300, loss : 0.4372, prediction : [[151.17854]\n",
            " [184.76462]\n",
            " [180.38658]\n",
            " [196.95146]\n",
            " [141.36687]]\n",
            "epoch 400, loss : 0.4356, prediction : [[151.17705]\n",
            " [184.76587]\n",
            " [180.38643]\n",
            " [196.94885]\n",
            " [141.37065]]\n",
            "epoch 500, loss : 0.4340, prediction : [[151.17563]\n",
            " [184.7671 ]\n",
            " [180.38632]\n",
            " [196.94624]\n",
            " [141.37439]]\n",
            "epoch 600, loss : 0.4324, prediction : [[151.17427]\n",
            " [184.76826]\n",
            " [180.38622]\n",
            " [196.94366]\n",
            " [141.37805]]\n",
            "epoch 700, loss : 0.4309, prediction : [[151.17299]\n",
            " [184.76941]\n",
            " [180.38614]\n",
            " [196.94112]\n",
            " [141.38165]]\n",
            "epoch 800, loss : 0.4293, prediction : [[151.17177]\n",
            " [184.77051]\n",
            " [180.3861 ]\n",
            " [196.9386 ]\n",
            " [141.3852 ]]\n",
            "epoch 900, loss : 0.4278, prediction : [[151.17061]\n",
            " [184.77156]\n",
            " [180.38605]\n",
            " [196.93608]\n",
            " [141.38867]]\n",
            "epoch 1000, loss : 0.4263, prediction : [[151.16951]\n",
            " [184.77257]\n",
            " [180.38603]\n",
            " [196.93358]\n",
            " [141.3921 ]]\n",
            "epoch 1100, loss : 0.4248, prediction : [[151.16846]\n",
            " [184.77353]\n",
            " [180.38603]\n",
            " [196.9311 ]\n",
            " [141.39546]]\n",
            "epoch 1200, loss : 0.4234, prediction : [[151.16747]\n",
            " [184.77446]\n",
            " [180.38605]\n",
            " [196.92865]\n",
            " [141.39876]]\n",
            "epoch 1300, loss : 0.4219, prediction : [[151.16653]\n",
            " [184.77536]\n",
            " [180.38608]\n",
            " [196.92621]\n",
            " [141.40202]]\n",
            "epoch 1400, loss : 0.4205, prediction : [[151.16563]\n",
            " [184.77621]\n",
            " [180.38611]\n",
            " [196.92378]\n",
            " [141.40523]]\n",
            "epoch 1500, loss : 0.4191, prediction : [[151.1648 ]\n",
            " [184.77704]\n",
            " [180.38617]\n",
            " [196.92139]\n",
            " [141.40836]]\n",
            "epoch 1600, loss : 0.4177, prediction : [[151.16402]\n",
            " [184.77782]\n",
            " [180.38625]\n",
            " [196.91899]\n",
            " [141.41147]]\n",
            "epoch 1700, loss : 0.4163, prediction : [[151.16328]\n",
            " [184.77858]\n",
            " [180.38634]\n",
            " [196.91663]\n",
            " [141.41452]]\n",
            "epoch 1800, loss : 0.4149, prediction : [[151.1626 ]\n",
            " [184.7793 ]\n",
            " [180.38643]\n",
            " [196.91426]\n",
            " [141.41753]]\n",
            "epoch 1900, loss : 0.4135, prediction : [[151.16196]\n",
            " [184.78   ]\n",
            " [180.38657]\n",
            " [196.91193]\n",
            " [141.42047]]\n",
            "epoch 2000, loss : 0.4122, prediction : [[151.16135]\n",
            " [184.78064]\n",
            " [180.38666]\n",
            " [196.90958]\n",
            " [141.42337]]\n"
          ]
        }
      ]
    }
  ]
}
