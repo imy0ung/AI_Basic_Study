{
  "nbformat": 4,
  "nbformat_minor": 0,
  "metadata": {
    "colab": {
      "provenance": [],
      "authorship_tag": "ABX9TyMATmOl5dZYrMNvMhdVV1Kn",
      "include_colab_link": true
    },
    "kernelspec": {
      "name": "python3",
      "display_name": "Python 3"
    },
    "language_info": {
      "name": "python"
    }
  },
  "cells": [
    {
      "cell_type": "markdown",
      "metadata": {
        "id": "view-in-github",
        "colab_type": "text"
      },
      "source": [
        "<a href=\"https://colab.research.google.com/github/imy0ung/AI_Basic_Study/blob/main/Pytorch/model/softmax_model.ipynb\" target=\"_parent\"><img src=\"https://colab.research.google.com/assets/colab-badge.svg\" alt=\"Open In Colab\"/></a>"
      ]
    },
    {
      "cell_type": "code",
      "execution_count": 1,
      "metadata": {
        "id": "hcPMNgDme3wd"
      },
      "outputs": [],
      "source": [
        "import torch\n",
        "from torch import nn\n",
        "from torch.utils.data import DataLoader\n",
        "import numpy as np\n",
        "import pandas as pd"
      ]
    },
    {
      "cell_type": "code",
      "source": [
        "x_data = [[1, 2, 1, 1], [2, 1, 3, 2], [3, 1, 3, 4], [4, 1, 5, 5],\n",
        "          [1, 7, 5, 5], [1, 2, 5, 6], [1, 6, 6, 6], [1, 7, 7, 7]]\n",
        "y_data = [[0, 0, 1], [0, 0, 1], [0, 0, 1], [0, 1, 0],\n",
        "          [0, 1, 0], [0, 1, 0], [1, 0, 0], [1, 0, 0]]\n",
        "\n",
        "X = torch.Tensor(x_data)\n",
        "Y = torch.Tensor(y_data)\n",
        "nb_classes = 3"
      ],
      "metadata": {
        "id": "YvkRnWg4foC1"
      },
      "execution_count": 2,
      "outputs": []
    },
    {
      "cell_type": "code",
      "source": [
        "class softmax_classifier(nn.Module) :\n",
        "  def __init__(self) :\n",
        "    super().__init__()\n",
        "    self.linear = nn.Linear(4, nb_classes)\n",
        "    self.softmax = nn.Softmax()\n",
        "\n",
        "  def forward(self,x) :\n",
        "    return self.softmax(self.linear(x))"
      ],
      "metadata": {
        "id": "yn10Qc1FfzTg"
      },
      "execution_count": 3,
      "outputs": []
    },
    {
      "cell_type": "code",
      "source": [
        "model = softmax_classifier()\n",
        "optimizer = torch.optim.SGD(model.parameters(), lr = 0.1)\n",
        "loss_fn = nn.CrossEntropyLoss()\n",
        "epoch = 2001"
      ],
      "metadata": {
        "id": "xWheWrj_gHZd"
      },
      "execution_count": 13,
      "outputs": []
    },
    {
      "cell_type": "code",
      "source": [
        "for step in range(epoch) :\n",
        "  prediction = model(X)\n",
        "  loss = loss_fn(prediction, Y)\n",
        "\n",
        "  loss.backward()\n",
        "  optimizer.step()\n",
        "  optimizer.zero_grad()\n",
        "\n",
        "  if step % 200 == 0 :\n",
        "    print(f\"epoch : {step}, loss : {loss.item()}\")"
      ],
      "metadata": {
        "colab": {
          "base_uri": "https://localhost:8080/"
        },
        "id": "ymtmVYmTgWDz",
        "outputId": "1bca10f5-7825-43bb-cd62-64dc8f3b1c29"
      },
      "execution_count": 26,
      "outputs": [
        {
          "output_type": "stream",
          "name": "stderr",
          "text": [
            "/usr/local/lib/python3.10/dist-packages/torch/nn/modules/module.py:1532: UserWarning: Implicit dimension choice for softmax has been deprecated. Change the call to include dim=X as an argument.\n",
            "  return self._call_impl(*args, **kwargs)\n"
          ]
        },
        {
          "output_type": "stream",
          "name": "stdout",
          "text": [
            "epoch : 0, loss : 0.6736454963684082\n",
            "epoch : 200, loss : 0.673355221748352\n",
            "epoch : 400, loss : 0.6730831861495972\n",
            "epoch : 600, loss : 0.6728277206420898\n",
            "epoch : 800, loss : 0.6725874543190002\n",
            "epoch : 1000, loss : 0.6723610162734985\n",
            "epoch : 1200, loss : 0.6721471548080444\n",
            "epoch : 1400, loss : 0.6719450354576111\n",
            "epoch : 1600, loss : 0.6717535853385925\n",
            "epoch : 1800, loss : 0.6715719699859619\n",
            "epoch : 2000, loss : 0.6713995933532715\n"
          ]
        }
      ]
    },
    {
      "cell_type": "code",
      "source": [
        "a = model(torch.Tensor([[1,3,4,3]]))\n",
        "print(a.data, torch.argmax(a,1).data)"
      ],
      "metadata": {
        "colab": {
          "base_uri": "https://localhost:8080/"
        },
        "id": "o2ywCuyDhACa",
        "outputId": "e6d9e6ed-b1c6-4359-c370-b74a87175703"
      },
      "execution_count": 28,
      "outputs": [
        {
          "output_type": "stream",
          "name": "stdout",
          "text": [
            "tensor([[0.5625, 0.0056, 0.4319]]) tensor([0])\n"
          ]
        }
      ]
    },
    {
      "cell_type": "code",
      "source": [
        "prediction = model(X)\n",
        "predicted_classes = torch.argmax(prediction, dim=1)\n",
        "accuracy = (predicted_classes == torch.argmax(Y,dim=1)).float().sum()/len(Y)\n",
        "print(accuracy.item())"
      ],
      "metadata": {
        "colab": {
          "base_uri": "https://localhost:8080/"
        },
        "id": "eQHZgscgjglm",
        "outputId": "2b12042a-415f-4d7c-e4a1-780db79221e1"
      },
      "execution_count": 48,
      "outputs": [
        {
          "output_type": "stream",
          "name": "stdout",
          "text": [
            "0.875\n"
          ]
        },
        {
          "output_type": "stream",
          "name": "stderr",
          "text": [
            "/usr/local/lib/python3.10/dist-packages/torch/nn/modules/module.py:1532: UserWarning: Implicit dimension choice for softmax has been deprecated. Change the call to include dim=X as an argument.\n",
            "  return self._call_impl(*args, **kwargs)\n"
          ]
        }
      ]
    }
  ]
}