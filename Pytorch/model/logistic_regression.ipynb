{
  "nbformat": 4,
  "nbformat_minor": 0,
  "metadata": {
    "colab": {
      "provenance": [],
      "authorship_tag": "ABX9TyOaQ8D2/1dhYFjRLSU+B/jc",
      "include_colab_link": true
    },
    "kernelspec": {
      "name": "python3",
      "display_name": "Python 3"
    },
    "language_info": {
      "name": "python"
    }
  },
  "cells": [
    {
      "cell_type": "markdown",
      "metadata": {
        "id": "view-in-github",
        "colab_type": "text"
      },
      "source": [
        "<a href=\"https://colab.research.google.com/github/imy0ung/AI_Basic_Study/blob/main/Pytorch/model/logistic_regression.ipynb\" target=\"_parent\"><img src=\"https://colab.research.google.com/assets/colab-badge.svg\" alt=\"Open In Colab\"/></a>"
      ]
    },
    {
      "cell_type": "code",
      "execution_count": 1,
      "metadata": {
        "id": "c1fBb88NBZat"
      },
      "outputs": [],
      "source": [
        "import torch\n",
        "from torch import nn\n",
        "from torch.utils.data import DataLoader\n",
        "import numpy as np"
      ]
    },
    {
      "cell_type": "code",
      "source": [
        "x_data = np.array([[1, 2], [2, 3], [3, 1], [4, 3], [5, 3], [6, 2]], dtype=np.float32)\n",
        "y_data = np.array([[0], [0], [0], [1], [1], [1]], dtype=np.float32)\n",
        "\n",
        "X = torch.from_numpy(x_data)\n",
        "Y = torch.from_numpy(y_data)"
      ],
      "metadata": {
        "id": "fhoozj2CCT9y"
      },
      "execution_count": 2,
      "outputs": []
    },
    {
      "cell_type": "code",
      "source": [
        "class LogisticRegression(nn.Module) :\n",
        "  def __init__(self) :\n",
        "    super().__init__()\n",
        "    self.linear = nn.Linear(2,1)\n",
        "    self.sigmoid = nn.Sigmoid()\n",
        "\n",
        "  def forward(self,x) :\n",
        "    output = self.linear(x)\n",
        "    return self.sigmoid(output)"
      ],
      "metadata": {
        "id": "F7yFRs0bCppw"
      },
      "execution_count": 3,
      "outputs": []
    },
    {
      "cell_type": "code",
      "source": [
        "model = LogisticRegression()"
      ],
      "metadata": {
        "id": "T5IAsgl4DwtU"
      },
      "execution_count": 4,
      "outputs": []
    },
    {
      "cell_type": "code",
      "source": [
        "optimizer = torch.optim.SGD(model.parameters(), lr = 0.01)\n",
        "loss_fn = nn.BCELoss()\n",
        "epochs = 10001"
      ],
      "metadata": {
        "id": "f95Dl_cBDybr"
      },
      "execution_count": 6,
      "outputs": []
    },
    {
      "cell_type": "code",
      "source": [
        "for step in range(epochs) :\n",
        "  model.train()\n",
        "  prediction = model(X)\n",
        "  loss = loss_fn(prediction,Y)\n",
        "\n",
        "  loss.backward()\n",
        "  optimizer.step()\n",
        "  optimizer.zero_grad()\n",
        "\n",
        "  if step % 200 == 0 :\n",
        "    print(f\"epoch : {step}, loss : {loss.item()}\")"
      ],
      "metadata": {
        "colab": {
          "base_uri": "https://localhost:8080/"
        },
        "id": "M7eMYH_AD_MZ",
        "outputId": "a1d61935-e676-4b27-82b8-d33afd450355"
      },
      "execution_count": 8,
      "outputs": [
        {
          "output_type": "stream",
          "name": "stdout",
          "text": [
            "epoch : 0, loss : 0.8170649409294128\n",
            "epoch : 200, loss : 0.5691314339637756\n",
            "epoch : 400, loss : 0.5060185790061951\n",
            "epoch : 600, loss : 0.4708113968372345\n",
            "epoch : 800, loss : 0.44674837589263916\n",
            "epoch : 1000, loss : 0.4278313219547272\n",
            "epoch : 1200, loss : 0.41164717078208923\n",
            "epoch : 1400, loss : 0.3971235454082489\n",
            "epoch : 1600, loss : 0.38374361395835876\n",
            "epoch : 1800, loss : 0.3712390661239624\n",
            "epoch : 2000, loss : 0.35946032404899597\n",
            "epoch : 2200, loss : 0.3483159840106964\n",
            "epoch : 2400, loss : 0.33774518966674805\n",
            "epoch : 2600, loss : 0.32770299911499023\n",
            "epoch : 2800, loss : 0.31815361976623535\n",
            "epoch : 3000, loss : 0.30906638503074646\n",
            "epoch : 3200, loss : 0.3004136383533478\n",
            "epoch : 3400, loss : 0.29217076301574707\n",
            "epoch : 3600, loss : 0.2843140959739685\n",
            "epoch : 3800, loss : 0.2768217921257019\n",
            "epoch : 4000, loss : 0.269673228263855\n",
            "epoch : 4200, loss : 0.26284876465797424\n",
            "epoch : 4400, loss : 0.256330281496048\n",
            "epoch : 4600, loss : 0.25010034441947937\n",
            "epoch : 4800, loss : 0.24414266645908356\n",
            "epoch : 5000, loss : 0.23844198882579803\n",
            "epoch : 5200, loss : 0.23298399150371552\n",
            "epoch : 5400, loss : 0.22775506973266602\n",
            "epoch : 5600, loss : 0.22274255752563477\n",
            "epoch : 5800, loss : 0.21793465316295624\n",
            "epoch : 6000, loss : 0.21332018077373505\n",
            "epoch : 6200, loss : 0.2088887095451355\n",
            "epoch : 6400, loss : 0.20463036000728607\n",
            "epoch : 6600, loss : 0.20053599774837494\n",
            "epoch : 6800, loss : 0.19659703969955444\n",
            "epoch : 7000, loss : 0.19280536472797394\n",
            "epoch : 7200, loss : 0.18915338814258575\n",
            "epoch : 7400, loss : 0.1856340616941452\n",
            "epoch : 7600, loss : 0.1822405904531479\n",
            "epoch : 7800, loss : 0.17896677553653717\n",
            "epoch : 8000, loss : 0.17580664157867432\n",
            "epoch : 8200, loss : 0.17275477945804596\n",
            "epoch : 8400, loss : 0.16980598866939545\n",
            "epoch : 8600, loss : 0.1669551581144333\n",
            "epoch : 8800, loss : 0.1641979068517685\n",
            "epoch : 9000, loss : 0.1615297645330429\n",
            "epoch : 9200, loss : 0.15894658863544464\n",
            "epoch : 9400, loss : 0.15644465386867523\n",
            "epoch : 9600, loss : 0.1540202796459198\n",
            "epoch : 9800, loss : 0.15166999399662018\n",
            "epoch : 10000, loss : 0.1493905633687973\n"
          ]
        }
      ]
    },
    {
      "cell_type": "code",
      "source": [
        "from urllib.request import AbstractBasicAuthHandler\n",
        "predicted = (model(X).data > 0.5).float() #.data는 autograd을 정지할 수 있음\n",
        "accuracy = (predicted == Y.data).float().mean()\n",
        "print(accuracy.item())"
      ],
      "metadata": {
        "colab": {
          "base_uri": "https://localhost:8080/"
        },
        "id": "FOOOb7ufEj86",
        "outputId": "b291c251-a55e-45b7-dd30-3f27253771d3"
      },
      "execution_count": 20,
      "outputs": [
        {
          "output_type": "stream",
          "name": "stdout",
          "text": [
            "1.0\n"
          ]
        }
      ]
    }
  ]
}