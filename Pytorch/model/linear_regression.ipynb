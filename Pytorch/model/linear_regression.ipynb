{
  "nbformat": 4,
  "nbformat_minor": 0,
  "metadata": {
    "colab": {
      "provenance": [],
      "authorship_tag": "ABX9TyNWdU4do6a4L/YxcB+O4IUi",
      "include_colab_link": true
    },
    "kernelspec": {
      "name": "python3",
      "display_name": "Python 3"
    },
    "language_info": {
      "name": "python"
    }
  },
  "cells": [
    {
      "cell_type": "markdown",
      "metadata": {
        "id": "view-in-github",
        "colab_type": "text"
      },
      "source": [
        "<a href=\"https://colab.research.google.com/github/imy0ung/AI_Basic_Study/blob/main/Pytorch/model/linear_regression_pytorch.ipynb\" target=\"_parent\"><img src=\"https://colab.research.google.com/assets/colab-badge.svg\" alt=\"Open In Colab\"/></a>"
      ]
    },
    {
      "cell_type": "code",
      "execution_count": 1,
      "metadata": {
        "id": "09Fg4bAKoyD8"
      },
      "outputs": [],
      "source": [
        "import torch\n",
        "from torch import nn\n",
        "from torch.utils.data import DataLoader"
      ]
    },
    {
      "cell_type": "code",
      "source": [
        "class LinearRegressionModel(nn.Module) :\n",
        "  def __init__(self) :\n",
        "    super().__init__()\n",
        "    self.linear = nn.Linear(1,1)\n",
        "\n",
        "  def forward(self,x) :\n",
        "    return self.linear(x)"
      ],
      "metadata": {
        "id": "E9zRuicNo7n_"
      },
      "execution_count": 2,
      "outputs": []
    },
    {
      "cell_type": "code",
      "source": [
        "model = LinearRegressionModel()"
      ],
      "metadata": {
        "id": "vPCYWYdZpmjS"
      },
      "execution_count": 3,
      "outputs": []
    },
    {
      "cell_type": "code",
      "source": [
        "x_train = torch.tensor([[1.],[2.],[3.]],dtype = torch.float32) # Tensor 말고 tensor은 dtype을 설정할 수 있음\n",
        "y_train = torch.tensor([[2.],[4.],[6.]],dtype = torch.float32)\n",
        "\n",
        "optimizer = torch.optim.SGD(model.parameters(), lr = 0.01)\n",
        "\n",
        "epochs = 500"
      ],
      "metadata": {
        "id": "lATeTec9pvCs"
      },
      "execution_count": 4,
      "outputs": []
    },
    {
      "cell_type": "code",
      "source": [
        "for epoch in range(epochs) :\n",
        "  model.train()\n",
        "  prediction = model(x_train)\n",
        "  loss = nn.functional.mse_loss(prediction,y_train)\n",
        "\n",
        "  loss.backward()\n",
        "  optimizer.step()\n",
        "  optimizer.zero_grad()\n",
        "\n",
        "  if epoch % 100 == 0 :\n",
        "    print(f'epoch : {epoch}, loss = {loss.item():.4f}')"
      ],
      "metadata": {
        "colab": {
          "base_uri": "https://localhost:8080/"
        },
        "id": "X5Bh4TOSqSqK",
        "outputId": "c7d954c0-8271-479b-80a1-a5bc0436dd98"
      },
      "execution_count": 5,
      "outputs": [
        {
          "output_type": "stream",
          "name": "stdout",
          "text": [
            "epoch : 0, loss = 14.5202\n",
            "epoch : 100, loss = 0.0862\n",
            "epoch : 200, loss = 0.0533\n",
            "epoch : 300, loss = 0.0329\n",
            "epoch : 400, loss = 0.0203\n"
          ]
        }
      ]
    }
  ]
}
