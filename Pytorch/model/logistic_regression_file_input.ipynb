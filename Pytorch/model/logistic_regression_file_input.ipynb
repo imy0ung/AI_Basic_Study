{
  "nbformat": 4,
  "nbformat_minor": 0,
  "metadata": {
    "colab": {
      "provenance": [],
      "authorship_tag": "ABX9TyMBYsonDW7PUIRJH8x7jIIS",
      "include_colab_link": true
    },
    "kernelspec": {
      "name": "python3",
      "display_name": "Python 3"
    },
    "language_info": {
      "name": "python"
    }
  },
  "cells": [
    {
      "cell_type": "markdown",
      "metadata": {
        "id": "view-in-github",
        "colab_type": "text"
      },
      "source": [
        "<a href=\"https://colab.research.google.com/github/imy0ung/AI_Basic_Study/blob/main/Pytorch/model/logistic_regression_file_input.ipynb\" target=\"_parent\"><img src=\"https://colab.research.google.com/assets/colab-badge.svg\" alt=\"Open In Colab\"/></a>"
      ]
    },
    {
      "cell_type": "code",
      "execution_count": 1,
      "metadata": {
        "colab": {
          "base_uri": "https://localhost:8080/"
        },
        "id": "Retboh_uZB8u",
        "outputId": "0c60b0ab-ee8f-40f3-b1c0-3c5edfa679c8"
      },
      "outputs": [
        {
          "output_type": "stream",
          "name": "stdout",
          "text": [
            "Cloning into 'data'...\n",
            "remote: Enumerating objects: 6, done.\u001b[K\n",
            "remote: Counting objects: 100% (6/6), done.\u001b[K\n",
            "remote: Compressing objects: 100% (6/6), done.\u001b[K\n",
            "remote: Total 6 (delta 0), reused 6 (delta 0), pack-reused 0 (from 0)\u001b[K\n",
            "Receiving objects: 100% (6/6), 28.74 KiB | 1.15 MiB/s, done.\n"
          ]
        }
      ],
      "source": [
        "!git clone https://github.com/myunghakLee/data.git"
      ]
    },
    {
      "cell_type": "code",
      "source": [
        "import torch\n",
        "from torch import nn\n",
        "from torch.utils.data import DataLoader\n",
        "import numpy as np\n",
        "import pandas as pd"
      ],
      "metadata": {
        "id": "U5HHEfuDZZxT"
      },
      "execution_count": 2,
      "outputs": []
    },
    {
      "cell_type": "code",
      "source": [
        "xy = np.loadtxt('/content/data/data-03-diabetes.csv', delimiter = ',', dtype = np.float32)\n",
        "x_data = xy[:, 0:-1]\n",
        "y_data = xy[:, [-1]]\n",
        "\n",
        "print(x_data.shape, y_data.shape)"
      ],
      "metadata": {
        "colab": {
          "base_uri": "https://localhost:8080/"
        },
        "id": "7qI3YmGiZrax",
        "outputId": "8ac9b8e1-57c0-40f0-f258-4c63dc3bdc4c"
      },
      "execution_count": 3,
      "outputs": [
        {
          "output_type": "stream",
          "name": "stdout",
          "text": [
            "(759, 8) (759, 1)\n"
          ]
        }
      ]
    },
    {
      "cell_type": "code",
      "source": [
        "X = torch.from_numpy(x_data)\n",
        "Y = torch.from_numpy(y_data)"
      ],
      "metadata": {
        "id": "IOsnynMgaDfv"
      },
      "execution_count": 4,
      "outputs": []
    },
    {
      "cell_type": "code",
      "source": [
        "class LogisticRegression(nn.Module) :\n",
        "  def __init__(self) :\n",
        "    super().__init__()\n",
        "    self.linear = nn.Linear(8,1)\n",
        "    self.sigmoid = nn.Sigmoid()\n",
        "\n",
        "  def forward(self,x) :\n",
        "    return self.sigmoid(self.linear(x))"
      ],
      "metadata": {
        "id": "ycsU02A7aNu1"
      },
      "execution_count": 7,
      "outputs": []
    },
    {
      "cell_type": "code",
      "source": [
        "model = LogisticRegression()\n",
        "\n",
        "optimizer = torch.optim.SGD(model.parameters(), lr = 0.01)\n",
        "criterion = nn.BCELoss()\n",
        "epochs = 10001"
      ],
      "metadata": {
        "id": "BB38_WcEagGG"
      },
      "execution_count": 10,
      "outputs": []
    },
    {
      "cell_type": "code",
      "source": [
        "for step in range(epochs) :\n",
        "  prediction = model(X)\n",
        "  loss = criterion(prediction,Y)\n",
        "\n",
        "  loss.backward()\n",
        "  optimizer.step()\n",
        "  optimizer.zero_grad()\n",
        "\n",
        "  if step%200 == 0 :\n",
        "    print(f\"epoch : {step}, loss : {loss.item()}\")"
      ],
      "metadata": {
        "colab": {
          "base_uri": "https://localhost:8080/"
        },
        "id": "O930EXMnaySD",
        "outputId": "8799f2cc-0bf9-4bb1-d181-b923783be4bf"
      },
      "execution_count": 11,
      "outputs": [
        {
          "output_type": "stream",
          "name": "stdout",
          "text": [
            "epoch : 0, loss : 0.6328117847442627\n",
            "epoch : 200, loss : 0.6047288775444031\n",
            "epoch : 400, loss : 0.5918148159980774\n",
            "epoch : 600, loss : 0.5818292498588562\n",
            "epoch : 800, loss : 0.5730942487716675\n",
            "epoch : 1000, loss : 0.5652755498886108\n",
            "epoch : 1200, loss : 0.5582378506660461\n",
            "epoch : 1400, loss : 0.5518852472305298\n",
            "epoch : 1600, loss : 0.5461377501487732\n",
            "epoch : 1800, loss : 0.5409256219863892\n",
            "epoch : 2000, loss : 0.5361882448196411\n",
            "epoch : 2200, loss : 0.5318729877471924\n",
            "epoch : 2400, loss : 0.5279337167739868\n",
            "epoch : 2600, loss : 0.5243300199508667\n",
            "epoch : 2800, loss : 0.5210267901420593\n",
            "epoch : 3000, loss : 0.5179930925369263\n",
            "epoch : 3200, loss : 0.5152016878128052\n",
            "epoch : 3400, loss : 0.5126286149024963\n",
            "epoch : 3600, loss : 0.5102527737617493\n",
            "epoch : 3800, loss : 0.5080553889274597\n",
            "epoch : 4000, loss : 0.5060200095176697\n",
            "epoch : 4200, loss : 0.5041317939758301\n",
            "epoch : 4400, loss : 0.5023775696754456\n",
            "epoch : 4600, loss : 0.5007455945014954\n",
            "epoch : 4800, loss : 0.49922555685043335\n",
            "epoch : 5000, loss : 0.49780789017677307\n",
            "epoch : 5200, loss : 0.49648401141166687\n",
            "epoch : 5400, loss : 0.49524641036987305\n",
            "epoch : 5600, loss : 0.4940883219242096\n",
            "epoch : 5800, loss : 0.49300330877304077\n",
            "epoch : 6000, loss : 0.49198582768440247\n",
            "epoch : 6200, loss : 0.49103081226348877\n",
            "epoch : 6400, loss : 0.49013346433639526\n",
            "epoch : 6600, loss : 0.48928961157798767\n",
            "epoch : 6800, loss : 0.4884953200817108\n",
            "epoch : 7000, loss : 0.4877471625804901\n",
            "epoch : 7200, loss : 0.48704180121421814\n",
            "epoch : 7400, loss : 0.4863763749599457\n",
            "epoch : 7600, loss : 0.4857480227947235\n",
            "epoch : 7800, loss : 0.485154390335083\n",
            "epoch : 8000, loss : 0.484593003988266\n",
            "epoch : 8200, loss : 0.4840618968009949\n",
            "epoch : 8400, loss : 0.4835589528083801\n",
            "epoch : 8600, loss : 0.48308253288269043\n",
            "epoch : 8800, loss : 0.48263078927993774\n",
            "epoch : 9000, loss : 0.48220229148864746\n",
            "epoch : 9200, loss : 0.4817955493927002\n",
            "epoch : 9400, loss : 0.4814092814922333\n",
            "epoch : 9600, loss : 0.48104217648506165\n",
            "epoch : 9800, loss : 0.48069319128990173\n",
            "epoch : 10000, loss : 0.4803611934185028\n"
          ]
        }
      ]
    },
    {
      "cell_type": "code",
      "source": [
        "prediction = (model(X).data > 0.5).float()\n",
        "accuracy = (prediction == Y.data).float().mean()\n",
        "print(accuracy.item())"
      ],
      "metadata": {
        "colab": {
          "base_uri": "https://localhost:8080/"
        },
        "id": "uXSUCau8bOb5",
        "outputId": "eed78934-827b-4b87-afdc-36dd6378fcfc"
      },
      "execution_count": 13,
      "outputs": [
        {
          "output_type": "stream",
          "name": "stdout",
          "text": [
            "0.7694334387779236\n"
          ]
        }
      ]
    }
  ]
}