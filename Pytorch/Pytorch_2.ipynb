{
  "nbformat": 4,
  "nbformat_minor": 0,
  "metadata": {
    "colab": {
      "provenance": [],
      "authorship_tag": "ABX9TyP514yMmNjuzVtUZjJarti5",
      "include_colab_link": true
    },
    "kernelspec": {
      "name": "python3",
      "display_name": "Python 3"
    },
    "language_info": {
      "name": "python"
    }
  },
  "cells": [
    {
      "cell_type": "markdown",
      "metadata": {
        "id": "view-in-github",
        "colab_type": "text"
      },
      "source": [
        "<a href=\"https://colab.research.google.com/github/imy0ung/AI_Basic_Study/blob/main/Pytorch/Pytorch_2.ipynb\" target=\"_parent\"><img src=\"https://colab.research.google.com/assets/colab-badge.svg\" alt=\"Open In Colab\"/></a>"
      ]
    },
    {
      "cell_type": "markdown",
      "source": [
        "# **Transform**\n",
        "데이터가 항상 머신러닝 알고리즘 학습에 필요한 최종 처리가 된 형태로 제공되지는 않습니다. 그래서 transform을 해서 데이터를 조작하고 학습에 적합하게 만듭니다.\n",
        "\n",
        "모든 TorchVision 데이터셋들은 변형 로직을 갖는. 호출 가능한 객체를 매개변수 두개를 갖습니다.\n",
        "\n",
        "1. feature을 변경하기 위한 transform\n",
        "2. label을 변경하기 위한 transform\n",
        "\n",
        "FashionMNIST feature은 PIL Image 형식이며, label은 integer입니다.\n",
        "\n",
        "학습을 하려면 정규화된 텐서 형태의 feature과 one-hot-encoding된 tensor label이 필요합니다.\n",
        "\n",
        "**one-hot-encoding** : 명목형 데이터를 숫자형 데이터로 변환하는데 사용되는 기법\n",
        "\n",
        "(ex) RGB라고 치면,\n",
        "\n",
        "R = [1, 0, 0]\n",
        "\n",
        "G = [0, 1, 0]\n",
        "\n",
        "B = [0, 0, 1]\n",
        "\n",
        "로 표현가능합니다.\n",
        "\n",
        "matlab의 dummy variable과 상당히 유사합니다.\n",
        "\n",
        "\n",
        "```python\n",
        "import pandas as pd\n",
        "\n",
        "df = pd.DataFrame({'Color' : ['Red', 'Green', 'Blue', 'Green']})\n",
        "\n",
        "one_hot_encoded_df = pd.get_dummies(df, columns = ['color'])\n",
        "```\n",
        "\n"
      ],
      "metadata": {
        "id": "24deajWEo3ED"
      }
    },
    {
      "cell_type": "code",
      "source": [
        "import torch\n",
        "from torchvision import datasets\n",
        "from torchvision.transforms import ToTensor, Lambda\n",
        "\n",
        "ds = datasets.FashionMNIST(\n",
        "    root = 'data',\n",
        "    train = True,\n",
        "    download = True,\n",
        "    transform = ToTensor(), # ToTensor은 PIL Image나 Numpy ndarray을 Float Tensor형태로 변환, 이미지의 픽셀 값을 0~1로 조정\n",
        "    target_transform=Lambda(lambda y : torch.zeros(10, dtype=torch.float).scatter_(0,torch.tensor(y), value=1))\n",
        ") # scatter_ dim=0 행을 기준으로 y라는 스칼라 값을 받아서, 10개의 열을 가진 torch에 value =1을 뿌려준다. one-hot-encoding\n",
        "# y=3이라면, index 3에 간다!!"
      ],
      "metadata": {
        "id": "HtLYPMzJPXws"
      },
      "execution_count": null,
      "outputs": []
    },
    {
      "cell_type": "code",
      "source": [
        "# scatter(dim, index, src)\n",
        "# dim = 0 행을 기준으로\n",
        "# index =[0,1,2,0] 이라면, 행기준으로 0행0열 1행1열 2행2열 0행3열 으로\n",
        "# src에서 값을 순서대로 따온다.\n",
        "# one-hot-encoding에서 많이 사용하니까 꼭 알아두기\n",
        "src = torch.arange(1,11).reshape(2,5) # 이사갈 후보들\n",
        "print(src)\n",
        "index = torch.tensor([[0,1,2,0]]) # 해당 순서에 따라\n",
        "torch.zeros(3,5, dtype=src.dtype).scatter_(0,index,src) # dtype이 맞아야함"
      ],
      "metadata": {
        "colab": {
          "base_uri": "https://localhost:8080/"
        },
        "id": "71dvk046S8nS",
        "outputId": "16868814-35f6-4fd4-94a4-ba7859e1afb7"
      },
      "execution_count": null,
      "outputs": [
        {
          "output_type": "stream",
          "name": "stdout",
          "text": [
            "tensor([[ 1,  2,  3,  4,  5],\n",
            "        [ 6,  7,  8,  9, 10]])\n"
          ]
        },
        {
          "output_type": "execute_result",
          "data": {
            "text/plain": [
              "tensor([[1, 0, 0, 4, 0],\n",
              "        [0, 2, 0, 0, 0],\n",
              "        [0, 0, 3, 0, 0]])"
            ]
          },
          "metadata": {},
          "execution_count": 31
        }
      ]
    },
    {
      "cell_type": "code",
      "source": [
        "#one-hot-encoding\n",
        "torch.zeros(10,dtype=torch.float).scatter(0,torch.tensor(1),value = 1)"
      ],
      "metadata": {
        "colab": {
          "base_uri": "https://localhost:8080/"
        },
        "id": "yJSz090HeaNN",
        "outputId": "e505e964-c2d4-41cc-80d2-8d6ddea85313"
      },
      "execution_count": null,
      "outputs": [
        {
          "output_type": "execute_result",
          "data": {
            "text/plain": [
              "tensor([0., 1., 0., 0., 0., 0., 0., 0., 0., 0.])"
            ]
          },
          "metadata": {},
          "execution_count": 35
        }
      ]
    }
  ]
}