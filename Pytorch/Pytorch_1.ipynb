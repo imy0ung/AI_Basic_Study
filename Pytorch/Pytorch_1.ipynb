{
  "nbformat": 4,
  "nbformat_minor": 0,
  "metadata": {
    "colab": {
      "provenance": [],
      "collapsed_sections": [
        "uyRGdro9-Qg7",
        "wyNCabpPXZIW"
      ],
      "gpuType": "T4",
      "authorship_tag": "ABX9TyOg1k/MPYP0rMc+EMY6ZIOK",
      "include_colab_link": true
    },
    "kernelspec": {
      "name": "python3",
      "display_name": "Python 3"
    },
    "language_info": {
      "name": "python"
    },
    "accelerator": "GPU"
  },
  "cells": [
    {
      "cell_type": "markdown",
      "metadata": {
        "id": "view-in-github",
        "colab_type": "text"
      },
      "source": [
        "<a href=\"https://colab.research.google.com/github/imy0ung/AI_Basic_Study/blob/main/Pytorch1.ipynb\" target=\"_parent\"><img src=\"https://colab.research.google.com/assets/colab-badge.svg\" alt=\"Open In Colab\"/></a>"
      ]
    },
    {
      "cell_type": "markdown",
      "source": [
        "# **Pytorch**\n",
        "\n",
        "1. Tensor\n",
        "2. Dataset\n",
        "3. Transform"
      ],
      "metadata": {
        "id": "SqaaGSrD9iXt"
      }
    },
    {
      "cell_type": "code",
      "source": [
        "import torch"
      ],
      "metadata": {
        "id": "EOMcmi9--F7L"
      },
      "execution_count": null,
      "outputs": []
    },
    {
      "cell_type": "markdown",
      "source": [],
      "metadata": {
        "id": "GcMzsNcX-G0_"
      }
    },
    {
      "cell_type": "markdown",
      "source": [
        "# **Tensor**\n",
        "\n",
        "\n",
        "1.   텐서는 배열이나 행렬과 매우 유사한 자료구조\n",
        "2.   Pytorch에서는 텐서를 사용하여 모델의 입력과 모델의 매개 변수들을 부호화함\n",
        "3.   numpy의 ndarray와 유사. 그러나 텐서는 하드웨어 가속기에서 실행할 수 있음\n",
        "4.   자동 미분의 최적화\n",
        "\n"
      ],
      "metadata": {
        "id": "uyRGdro9-Qg7"
      }
    },
    {
      "cell_type": "code",
      "source": [
        "import numpy as np\n",
        "\n",
        "data = [[1,2],[3,4]]\n",
        "x_data = torch.tensor(data)\n",
        "print(x_data, type(x_data))"
      ],
      "metadata": {
        "colab": {
          "base_uri": "https://localhost:8080/"
        },
        "id": "B1UKBjwZ-qrJ",
        "outputId": "bdc09bd5-394d-495c-de8c-29a6d98bbfe4"
      },
      "execution_count": null,
      "outputs": [
        {
          "output_type": "stream",
          "name": "stdout",
          "text": [
            "tensor([[1, 2],\n",
            "        [3, 4]]) <class 'torch.Tensor'>\n"
          ]
        }
      ]
    },
    {
      "cell_type": "markdown",
      "source": [
        "###**Tensor 기초**"
      ],
      "metadata": {
        "id": "NczB1LzjEEN3"
      }
    },
    {
      "cell_type": "code",
      "source": [
        "#1. ndarray와 tensor사이의 변환이 자유롭다.\n",
        "np_array = np.array(data)\n",
        "x_np = torch.from_numpy(np_array)\n",
        "type(x_np)"
      ],
      "metadata": {
        "colab": {
          "base_uri": "https://localhost:8080/"
        },
        "id": "tmJzxTXc-8c1",
        "outputId": "ea51f664-d2a6-4056-b30f-ed5704782d59"
      },
      "execution_count": null,
      "outputs": [
        {
          "output_type": "execute_result",
          "data": {
            "text/plain": [
              "torch.Tensor"
            ]
          },
          "metadata": {},
          "execution_count": 3
        }
      ]
    },
    {
      "cell_type": "code",
      "source": [
        "#2. 텐서의 차원은 튜플로 정의한다.\n",
        "\n",
        "shape = (2,3,)\n",
        "rand_tensor = torch.rand(shape)\n",
        "ones_tensor = torch.ones(shape)\n",
        "zeros_tensor = torch.zeros(shape)\n",
        "\n",
        "print(f\"rand_tensor: {rand_tensor}\")\n",
        "print(f\"ones_tensor: {ones_tensor}\")\n",
        "print(f\"zeros_tensor: {zeros_tensor}\")"
      ],
      "metadata": {
        "colab": {
          "base_uri": "https://localhost:8080/"
        },
        "id": "PZkKmh_9_8La",
        "outputId": "0a613c7c-23c7-47e5-8eb3-5c96f3ac79ca"
      },
      "execution_count": null,
      "outputs": [
        {
          "output_type": "stream",
          "name": "stdout",
          "text": [
            "rand_tensor: tensor([[0.6858, 0.9880, 0.5572],\n",
            "        [0.2245, 0.2915, 0.3781]])\n",
            "ones_tensor: tensor([[1., 1., 1.],\n",
            "        [1., 1., 1.]])\n",
            "zeros_tensor: tensor([[0., 0., 0.],\n",
            "        [0., 0., 0.]])\n"
          ]
        }
      ]
    },
    {
      "cell_type": "code",
      "source": [
        "#3. 텐서의 속성\n",
        "tensor = torch.rand(3,4)\n",
        "print(f\"Shape of tensor: {tensor.shape}\")\n",
        "print(f\"Datatype of tensor: {tensor.dtype}\")\n",
        "print(f\"Device of tensor: {tensor.device}\")"
      ],
      "metadata": {
        "colab": {
          "base_uri": "https://localhost:8080/"
        },
        "id": "DycN70iCBuAW",
        "outputId": "91540d8e-8f31-4dd8-c2bf-786e8d80c143"
      },
      "execution_count": null,
      "outputs": [
        {
          "output_type": "stream",
          "name": "stdout",
          "text": [
            "Shape of tensor: torch.Size([3, 4])\n",
            "Datatype of tensor: torch.float32\n",
            "Device of tensor: cpu\n"
          ]
        }
      ]
    },
    {
      "cell_type": "markdown",
      "source": [
        "### **Tensor Operation**\n",
        "\n",
        "1. 기본적으로 텐서는 CPU에 생성됨.\n",
        "2. 텐서 간 연산은 GPU가 훨씬 빠르기 때문에, 텐서를 GPU에 할당해서 사용\n",
        "3. 그러나 장치들 간 큰 텐서들을 복사하는 것은 시간과 메모리 측면에서 비용이 많이 든다는 것을 기억해야함!!"
      ],
      "metadata": {
        "id": "FZAtSKHyEWe-"
      }
    },
    {
      "cell_type": "code",
      "source": [
        "# GPU 메모리가 존재하면 텐서를 이동합니다.\n",
        "if torch.cuda.is_available() :\n",
        "  tensor = tensor.to(\"cuda\")"
      ],
      "metadata": {
        "id": "ACwwIZ0QB5uV"
      },
      "execution_count": null,
      "outputs": []
    },
    {
      "cell_type": "code",
      "source": [
        "#1. tensor : numpy와 상당히 유사\n",
        "tensor = torch.ones(4,4)\n",
        "print(f\"First row: {tensor[0]}\")\n",
        "print(f\"First column : {tensor[:,0]}\")\n",
        "print(f\"Last column : {tensor[...,-1]}\")\n",
        "tensor[:,1] = 0\n",
        "print(tensor)"
      ],
      "metadata": {
        "colab": {
          "base_uri": "https://localhost:8080/"
        },
        "id": "maKw7sewFihE",
        "outputId": "df0156eb-cc6d-4738-8ddc-197baa78b4d6"
      },
      "execution_count": null,
      "outputs": [
        {
          "output_type": "stream",
          "name": "stdout",
          "text": [
            "First row: tensor([1., 1., 1., 1.])\n",
            "First column : tensor([1., 1., 1., 1.])\n",
            "Last column : tensor([1., 1., 1., 1.])\n",
            "tensor([[1., 0., 1., 1.],\n",
            "        [1., 0., 1., 1.],\n",
            "        [1., 0., 1., 1.],\n",
            "        [1., 0., 1., 1.]])\n"
          ]
        }
      ]
    },
    {
      "cell_type": "code",
      "source": [
        "#2. tensor 합치기\n",
        "t1 = torch.cat([tensor, tensor, tensor], dim = 1) # dim = 0은 행방향\n",
        "print(t1)"
      ],
      "metadata": {
        "colab": {
          "base_uri": "https://localhost:8080/"
        },
        "id": "2Pborg4QGE84",
        "outputId": "6ed3fc22-81a8-4c17-deb3-9b1ee6c6602c"
      },
      "execution_count": null,
      "outputs": [
        {
          "output_type": "stream",
          "name": "stdout",
          "text": [
            "tensor([[1., 0., 1., 1., 1., 0., 1., 1., 1., 0., 1., 1.],\n",
            "        [1., 0., 1., 1., 1., 0., 1., 1., 1., 0., 1., 1.],\n",
            "        [1., 0., 1., 1., 1., 0., 1., 1., 1., 0., 1., 1.],\n",
            "        [1., 0., 1., 1., 1., 0., 1., 1., 1., 0., 1., 1.]])\n"
          ]
        }
      ]
    },
    {
      "cell_type": "code",
      "source": [
        "#3. tensor 연산\n",
        "y1 = tensor @ tensor.T # tensor의 matrix 곱\n",
        "y2 = tensor.matmul(tensor.T)\n",
        "print(y1, y2, sep = '\\n')\n",
        "\n",
        "z1 = tensor * tensor # element - wise product\n",
        "z2 = tensor.mul(tensor)\n",
        "print(z1, z2, sep = '\\n')\n",
        "\n",
        "z3 = torch.rand_like(tensor) # _like는 해당 tensor와 shape와 dtype을 유지\n",
        "torch.matmul(tensor, tensor.T, out = z3)"
      ],
      "metadata": {
        "colab": {
          "base_uri": "https://localhost:8080/"
        },
        "id": "Rr3I3NlOGl1F",
        "outputId": "e40786bf-80ac-4111-de3d-e97490702cda"
      },
      "execution_count": null,
      "outputs": [
        {
          "output_type": "stream",
          "name": "stdout",
          "text": [
            "tensor([[3., 3., 3., 3.],\n",
            "        [3., 3., 3., 3.],\n",
            "        [3., 3., 3., 3.],\n",
            "        [3., 3., 3., 3.]])\n",
            "tensor([[3., 3., 3., 3.],\n",
            "        [3., 3., 3., 3.],\n",
            "        [3., 3., 3., 3.],\n",
            "        [3., 3., 3., 3.]])\n",
            "tensor([[1., 0., 1., 1.],\n",
            "        [1., 0., 1., 1.],\n",
            "        [1., 0., 1., 1.],\n",
            "        [1., 0., 1., 1.]])\n",
            "tensor([[1., 0., 1., 1.],\n",
            "        [1., 0., 1., 1.],\n",
            "        [1., 0., 1., 1.],\n",
            "        [1., 0., 1., 1.]])\n"
          ]
        },
        {
          "output_type": "execute_result",
          "data": {
            "text/plain": [
              "tensor([[3., 3., 3., 3.],\n",
              "        [3., 3., 3., 3.],\n",
              "        [3., 3., 3., 3.],\n",
              "        [3., 3., 3., 3.]])"
            ]
          },
          "metadata": {},
          "execution_count": 33
        }
      ]
    },
    {
      "cell_type": "code",
      "source": [
        "#4. tensor의 모든 값이 하나로 모여서 하나의 텐서가 될 경우, 형변환 가능\n",
        "agg = tensor.sum()\n",
        "print(agg) # 하나의 텐서\n",
        "agg_item = agg.item() # 하나의 텐서를 item을 통해 python의 숫자로 바꾸어줌\n",
        "print(agg_item, type(agg_item))"
      ],
      "metadata": {
        "colab": {
          "base_uri": "https://localhost:8080/"
        },
        "id": "NQA1YfegIJN0",
        "outputId": "d2b5843c-e0d6-45eb-939e-88b92b011fbb"
      },
      "execution_count": null,
      "outputs": [
        {
          "output_type": "stream",
          "name": "stdout",
          "text": [
            "tensor(12.)\n",
            "12.0 <class 'float'>\n"
          ]
        }
      ]
    },
    {
      "cell_type": "code",
      "source": [
        "#5. _ 바꿔치기(in-place) 연산자\n",
        "print(f\"{tensor}\\n\")\n",
        "tensor.add_(5) # _ 연산자는 바꿔치기 연산자로, tensor에 바로 저장\n",
        "print(tensor)"
      ],
      "metadata": {
        "colab": {
          "base_uri": "https://localhost:8080/"
        },
        "id": "nPP3bmuwIvf_",
        "outputId": "e3f759c3-b393-4b06-e1b4-607ad5971523"
      },
      "execution_count": null,
      "outputs": [
        {
          "output_type": "stream",
          "name": "stdout",
          "text": [
            "tensor([[6., 5., 6., 6.],\n",
            "        [6., 5., 6., 6.],\n",
            "        [6., 5., 6., 6.],\n",
            "        [6., 5., 6., 6.]])\n",
            "\n",
            "tensor([[11., 10., 11., 11.],\n",
            "        [11., 10., 11., 11.],\n",
            "        [11., 10., 11., 11.],\n",
            "        [11., 10., 11., 11.]])\n"
          ]
        }
      ]
    },
    {
      "cell_type": "markdown",
      "source": [
        "### **Tensor - numpy**\n",
        "\n",
        "CPU 상의 텐서와 Numpy 배열은 메모리 공간을 공유하기 때문에, 하나를 변경하면 다른 하나도 변경된다."
      ],
      "metadata": {
        "id": "sRkxo6bzJ_1r"
      }
    },
    {
      "cell_type": "code",
      "source": [
        "#1. tensor to numpy\n",
        "t = torch.ones(5)\n",
        "print(f\"t: {t}\")\n",
        "n = t.numpy()\n",
        "print(f\"n: {n}\")"
      ],
      "metadata": {
        "colab": {
          "base_uri": "https://localhost:8080/"
        },
        "id": "LK7RWtOaKSmn",
        "outputId": "6022149c-72eb-4238-c5cc-f4ad37c22c35"
      },
      "execution_count": null,
      "outputs": [
        {
          "output_type": "stream",
          "name": "stdout",
          "text": [
            "t: tensor([1., 1., 1., 1., 1.])\n",
            "n: [1. 1. 1. 1. 1.]\n"
          ]
        }
      ]
    },
    {
      "cell_type": "code",
      "source": [
        "#2. tensor-numpy는 같은 메모리를 공유하기 때문에, 변경 사항이 numpy배열에 반영된다.\n",
        "t.add_(1)\n",
        "print(f\"t:{t}\")\n",
        "print(f\"t:{n}\")"
      ],
      "metadata": {
        "colab": {
          "base_uri": "https://localhost:8080/"
        },
        "id": "S_ntKThiKmPg",
        "outputId": "b10eb6bc-f8ca-4f30-98ee-b91a7e37fa13"
      },
      "execution_count": null,
      "outputs": [
        {
          "output_type": "stream",
          "name": "stdout",
          "text": [
            "t:tensor([3., 3., 3., 3., 3.])\n",
            "t:[3. 3. 3. 3. 3.]\n"
          ]
        }
      ]
    },
    {
      "cell_type": "code",
      "source": [
        "#3. numpy to tensor\n",
        "n = np.ones(5)\n",
        "# t = torch.tensor(n) # 새로운 메모리 공간에 데이터를 복사함\n",
        "t = torch.from_numpy(n) # 같은 메모리 공간을 사용\n",
        "print(t)"
      ],
      "metadata": {
        "colab": {
          "base_uri": "https://localhost:8080/"
        },
        "id": "zOs8gQKrK1dY",
        "outputId": "c4b5eae8-0c28-4f2c-d757-78550bf5803a"
      },
      "execution_count": null,
      "outputs": [
        {
          "output_type": "stream",
          "name": "stdout",
          "text": [
            "tensor([1., 1., 1., 1., 1.], dtype=torch.float64)\n"
          ]
        }
      ]
    },
    {
      "cell_type": "code",
      "source": [
        "np.add(n,1,out=n)\n",
        "print(f\"t:{t}\")\n",
        "print(f\"t:{n}\")"
      ],
      "metadata": {
        "colab": {
          "base_uri": "https://localhost:8080/"
        },
        "id": "BILsbhagLZQj",
        "outputId": "02f565c8-5c8c-4b01-c2a9-c301c2555b33"
      },
      "execution_count": null,
      "outputs": [
        {
          "output_type": "stream",
          "name": "stdout",
          "text": [
            "t:tensor([2., 2., 2., 2., 2.], dtype=torch.float64)\n",
            "t:[2. 2. 2. 2. 2.]\n"
          ]
        }
      ]
    },
    {
      "cell_type": "markdown",
      "source": [
        "# **DATASET과 DATALOADER**\n",
        "\n",
        "1. torch.utils.data.DataLoader : Dataset을 샘플에 쉽게 접근할 수 있도록 iterator로 감쌈\n",
        "2. torch.utils.data.Dataset : 샘플과 정답을 저장"
      ],
      "metadata": {
        "id": "GJlAyPsdM4Q1"
      }
    },
    {
      "cell_type": "markdown",
      "source": [
        "### **mnist**"
      ],
      "metadata": {
        "id": "iw8LpPQIXh4T"
      }
    },
    {
      "cell_type": "code",
      "source": [
        "import torch\n",
        "from torch.utils.data import Dataset\n",
        "from torchvision import datasets\n",
        "from torchvision.transforms import ToTensor\n",
        "import matplotlib.pyplot as plt\n",
        "\n",
        "\n",
        "training_data = datasets.FashionMNIST(\n",
        "    root = \"data\",\n",
        "    train = True,\n",
        "    download = True,\n",
        "    transform = ToTensor()\n",
        ")\n",
        "\n",
        "test_data = datasets.FashionMNIST(\n",
        "    root = \"data\",\n",
        "    train = False,\n",
        "    download = True,\n",
        "    transform = ToTensor()\n",
        ")"
      ],
      "metadata": {
        "colab": {
          "base_uri": "https://localhost:8080/"
        },
        "id": "pfC86xpYNCCm",
        "outputId": "ee11188f-7124-46d0-97b1-3a6f8ca8ef6c"
      },
      "execution_count": 3,
      "outputs": [
        {
          "output_type": "stream",
          "name": "stdout",
          "text": [
            "Downloading http://fashion-mnist.s3-website.eu-central-1.amazonaws.com/train-images-idx3-ubyte.gz\n",
            "Downloading http://fashion-mnist.s3-website.eu-central-1.amazonaws.com/train-images-idx3-ubyte.gz to data/FashionMNIST/raw/train-images-idx3-ubyte.gz\n"
          ]
        },
        {
          "output_type": "stream",
          "name": "stderr",
          "text": [
            "100%|██████████| 26421880/26421880 [00:01<00:00, 14705287.17it/s]\n"
          ]
        },
        {
          "output_type": "stream",
          "name": "stdout",
          "text": [
            "Extracting data/FashionMNIST/raw/train-images-idx3-ubyte.gz to data/FashionMNIST/raw\n",
            "\n",
            "Downloading http://fashion-mnist.s3-website.eu-central-1.amazonaws.com/train-labels-idx1-ubyte.gz\n",
            "Downloading http://fashion-mnist.s3-website.eu-central-1.amazonaws.com/train-labels-idx1-ubyte.gz to data/FashionMNIST/raw/train-labels-idx1-ubyte.gz\n"
          ]
        },
        {
          "output_type": "stream",
          "name": "stderr",
          "text": [
            "100%|██████████| 29515/29515 [00:00<00:00, 228462.43it/s]\n"
          ]
        },
        {
          "output_type": "stream",
          "name": "stdout",
          "text": [
            "Extracting data/FashionMNIST/raw/train-labels-idx1-ubyte.gz to data/FashionMNIST/raw\n",
            "\n",
            "Downloading http://fashion-mnist.s3-website.eu-central-1.amazonaws.com/t10k-images-idx3-ubyte.gz\n",
            "Downloading http://fashion-mnist.s3-website.eu-central-1.amazonaws.com/t10k-images-idx3-ubyte.gz to data/FashionMNIST/raw/t10k-images-idx3-ubyte.gz\n"
          ]
        },
        {
          "output_type": "stream",
          "name": "stderr",
          "text": [
            "100%|██████████| 4422102/4422102 [00:01<00:00, 4245288.53it/s]\n"
          ]
        },
        {
          "output_type": "stream",
          "name": "stdout",
          "text": [
            "Extracting data/FashionMNIST/raw/t10k-images-idx3-ubyte.gz to data/FashionMNIST/raw\n",
            "\n",
            "Downloading http://fashion-mnist.s3-website.eu-central-1.amazonaws.com/t10k-labels-idx1-ubyte.gz\n",
            "Downloading http://fashion-mnist.s3-website.eu-central-1.amazonaws.com/t10k-labels-idx1-ubyte.gz to data/FashionMNIST/raw/t10k-labels-idx1-ubyte.gz\n"
          ]
        },
        {
          "output_type": "stream",
          "name": "stderr",
          "text": [
            "100%|██████████| 5148/5148 [00:00<00:00, 17357135.85it/s]"
          ]
        },
        {
          "output_type": "stream",
          "name": "stdout",
          "text": [
            "Extracting data/FashionMNIST/raw/t10k-labels-idx1-ubyte.gz to data/FashionMNIST/raw\n",
            "\n"
          ]
        },
        {
          "output_type": "stream",
          "name": "stderr",
          "text": [
            "\n"
          ]
        }
      ]
    },
    {
      "cell_type": "code",
      "source": [
        "#1. DATASET 순회하고 화면에 띄워보기\n",
        "\n",
        "labels_map = {\n",
        "    0: \"T-Shirt\",\n",
        "    1: \"Trouser\",\n",
        "    2: \"Pullover\",\n",
        "    3: \"Dress\",\n",
        "    4: \"Coat\",\n",
        "    5: \"Sandal\",\n",
        "    6: \"Shirt\",\n",
        "    7: \"Sneaker\",\n",
        "    8: \"Bag\",\n",
        "    9: \"Ankle Boot\",\n",
        "}\n",
        "\n",
        "figure = plt.figure(figsize=(8,8))\n",
        "cols, rows = 3, 3\n",
        "\n",
        "for i in range(1, cols*rows+1) :\n",
        "  sample_idx = torch.randint(len(training_data),size = (1,)).item() #random으로 하나를 뽑고\n",
        "  img,label =  training_data[sample_idx] # training_data에 접근\n",
        "  figure.add_subplot(rows,cols,i) # 3x3 matrix에 i번째에서 작업을 하겠다/\n",
        "  plt.title(labels_map[label]) # title\n",
        "  plt.axis(\"off\") # axis\n",
        "  plt.imshow(img.squeeze(),cmap=\"gray\") # 이미지 시각화, squeeze는 불필요한 차원을 제거해서 2d배열로 만들어줌\n",
        "plt.show()"
      ],
      "metadata": {
        "colab": {
          "base_uri": "https://localhost:8080/",
          "height": 675
        },
        "id": "RHMeWtcrOg2t",
        "outputId": "e64abba0-08cb-42a1-bbac-cb9466fc55b7"
      },
      "execution_count": null,
      "outputs": [
        {
          "output_type": "display_data",
          "data": {
            "text/plain": [
              "<Figure size 800x800 with 9 Axes>"
            ],
            "image/png": "[encoded data removed]"
          },
          "metadata": {}
        }
      ]
    },
    {
      "cell_type": "markdown",
      "source": [],
      "metadata": {
        "id": "n8d-K7hfXVT2"
      }
    },
    {
      "cell_type": "markdown",
      "source": [
        "### **사용자 정의 데이터셋 만들기**\n",
        "1. 사용자 정의 dataset클래스는 반드시 3개의 함수가 필요\n",
        "2. __init__, __len__, __getitem__"
      ],
      "metadata": {
        "id": "wyNCabpPXZIW"
      }
    },
    {
      "cell_type": "code",
      "source": [
        "import os\n",
        "import pandas as pd\n",
        "from torchvision.io import read_image\n",
        "\n",
        "# fashion mnist를 예로 들어보면, 이미지는 img_dir에 정답은 annotation_file에 csv파일에 별도로 저장됩니다.\n",
        "\n",
        "class CustomImageDataset(Dataset) :\n",
        "  def __init__(self, annotations_file, img_dir, transform = None, target_transform = None) :\n",
        "    # init함수는 이미,주석파일을 초기화합니다.\n",
        "    # annotation_file, img_dir, transform : feature 전처리, target_transform : label 전처리\n",
        "    self.img_labels = pd.read_csv(annotations_file)\n",
        "    self.img_dir = img_dir\n",
        "    self.transform = transform\n",
        "    self.target_transform = target_transform\n",
        "\n",
        "  def __len__(self) :\\\n",
        "  # __len__ 함수는 데이터셋의 샘플 개수를 반환합니다.\n",
        "    return len(self.img_labels)\n",
        "\n",
        "  def __getitem__(self,idx) :\n",
        "    # getitem 함수는 주어진 인덱스에 해당하는 샘플을 데이터셋에서 불러오고 반환합니다.\n",
        "    # 인덱스를 기반으로 디스크에서 이미지의 위치를 식별하고, read_image를 사용하여 이미지를 텐서로 반환하고.\n",
        "    # self.img_labels의 csv 데이터로부터 해당하는 정답 label을 가져오고,\n",
        "    # 변형함수를 호출한 뒤, 텐서 이밎와 라벨을 python의 dictionary 자료형으로 반환합니다.\n",
        "\n",
        "    img_path = os.path.join(self.img_dir,self.img_labels.iloc[idx,0])\n",
        "    image = read_image(img_path)\n",
        "    label = self.img_labels.iloc[idx,1]\n",
        "    if self.transform :\n",
        "      image = self.transform(image) # transform은 변수가 아니라 함수나 호출가능한 객체이다.\n",
        "    if self.target_transform : # target_transform은 변수가 아니라 함수나 호출가능한 객체이다.\n",
        "      label = self.target_transform(label)\n",
        "    sample = {\"image\" : image , \"label\" : label}\n",
        "    return sample"
      ],
      "metadata": {
        "id": "cagxRwDAXXMH"
      },
      "execution_count": null,
      "outputs": []
    },
    {
      "cell_type": "markdown",
      "source": [
        "# **DataLoader로 학습용 데이터 준비하기**\n",
        "\n",
        "Dataset 함수는 데이터셋의 feature을 가져오고 하나의 샘플에 label을 지정하는 일을 한 번에 수행합니다.\n",
        "\n",
        "모델을 학습할 때, 일반적으로 샘플들을 minibatch로 전달하고, 매 에폭마다 데이터를 다시 섞어서 overfitting을 막으려 하고, Python의 multiprocessing을 사용하여 검색속도를 높이려 합니다.\n",
        "\n",
        "DataLoader은 간단한 API로 이러한 복잡한 과정들을 추상화한 순회 가능한 iterable입니다."
      ],
      "metadata": {
        "id": "vwiuAJI0RgdY"
      }
    },
    {
      "cell_type": "code",
      "source": [
        "from torch.utils.data import DataLoader\n",
        "\n",
        "train_dataloader = DataLoader(training_data, batch_size = 64, shuffle = True)\n",
        "test_dataloader = DataLoader(test_data, batch_size = 64, shuffle = True)"
      ],
      "metadata": {
        "id": "02470tLWSHUU"
      },
      "execution_count": 4,
      "outputs": []
    },
    {
      "cell_type": "markdown",
      "source": [
        "# **DataLoader를 통해 순회하기**\n",
        "\n",
        "DataLoader에 데이터셋을 불러온 후, 데이터 셋을 iterate할 수 있습니다. train_features와 train_labels을 batch로 반환합니다."
      ],
      "metadata": {
        "id": "DaGgB_mWTjBP"
      }
    },
    {
      "cell_type": "code",
      "source": [
        "train_features, train_labels = next(iter(train_dataloader))\n",
        "print(f\"Feature batch shape: {train_features.size()}\")\n",
        "print(f\"Labels batch shape: {train_labels.size()}\")\n",
        "img = train_features[0].squeeze()\n",
        "label = train_labels[0]\n",
        "plt.imshow(img, cmap=\"gray\")\n",
        "plt.show()\n",
        "print(f\"Label: {label}\")"
      ],
      "metadata": {
        "colab": {
          "base_uri": "https://localhost:8080/",
          "height": 485
        },
        "id": "0-tjSG49T-5U",
        "outputId": "b30f81fe-d565-4323-a7a6-80302b859f62"
      },
      "execution_count": 9,
      "outputs": [
        {
          "output_type": "stream",
          "name": "stdout",
          "text": [
            "Feature batch shape: torch.Size([64, 1, 28, 28])\n",
            "Labels batch shape: torch.Size([64])\n"
          ]
        },
        {
          "output_type": "display_data",
          "data": {
            "text/plain": [
              "<Figure size 640x480 with 1 Axes>"
            ],
            "image/png": "[encoded data removed]"
          },
          "metadata": {}
        },
        {
          "output_type": "stream",
          "name": "stdout",
          "text": [
            "Label: 1\n"
          ]
        }
      ]
    }
  ]
}
