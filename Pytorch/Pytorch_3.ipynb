{
  "nbformat": 4,
  "nbformat_minor": 0,
  "metadata": {
    "colab": {
      "provenance": [],
      "gpuType": "T4",
      "authorship_tag": "ABX9TyP1GLEopIhIhVsdN9R8f+CG",
      "include_colab_link": true
    },
    "kernelspec": {
      "name": "python3",
      "display_name": "Python 3"
    },
    "language_info": {
      "name": "python"
    },
    "accelerator": "GPU"
  },
  "cells": [
    {
      "cell_type": "markdown",
      "metadata": {
        "id": "view-in-github",
        "colab_type": "text"
      },
      "source": [
        "<a href=\"https://colab.research.google.com/github/imy0ung/AI_Basic_Study/blob/main/Pytorch/Pytorch_3.ipynb\" target=\"_parent\"><img src=\"https://colab.research.google.com/assets/colab-badge.svg\" alt=\"Open In Colab\"/></a>"
      ]
    },
    {
      "cell_type": "markdown",
      "source": [
        "# **신경망 모델 구성하기**\n",
        "신경망은 데이터에 대한 연산을 수행하는 layer/module로 구성되어 있습니다.\n",
        "\n",
        "* torch.nn : 신경망을 구성하는데 필요한 모든 구성 요소를 제공합니다.\n",
        "\n",
        "* torch.nn link : https://pytorch.org/docs/stable/nn.html\n",
        "\n",
        "* PyTorch의 모든 모듈을 nn.Module의 하위 클래스 입니다.\n",
        "* Module link : https://pytorch.org/docs/stable/generated/torch.nn.Module.html"
      ],
      "metadata": {
        "id": "pn-iUnkjiezY"
      }
    },
    {
      "cell_type": "code",
      "source": [
        "import os\n",
        "import torch\n",
        "from torch import nn\n",
        "from torch.utils.data import DataLoader\n",
        "from torchvision import datasets, transforms"
      ],
      "metadata": {
        "id": "wAGoVpFCkKG4"
      },
      "execution_count": 11,
      "outputs": []
    },
    {
      "cell_type": "markdown",
      "source": [
        "## **학습을 위한 장치 얻기**\n"
      ],
      "metadata": {
        "id": "uA4ZYUb3klfH"
      }
    },
    {
      "cell_type": "code",
      "source": [
        "device = (\n",
        "    \"cuda\"\n",
        "    if torch.cuda.is_available()\n",
        "    else \"mps\"\n",
        "    if torch.backends.mps.is_available()\n",
        "    else \"cpu\"\n",
        ") # 삼항 연산자를 이용\n",
        "print(f\"Using {device} device\")"
      ],
      "metadata": {
        "colab": {
          "base_uri": "https://localhost:8080/"
        },
        "id": "yqHc0f52krL5",
        "outputId": "fdc868b9-c73f-4a5d-ad5b-02a2acfcbbfc"
      },
      "execution_count": 12,
      "outputs": [
        {
          "output_type": "stream",
          "name": "stdout",
          "text": [
            "Using cuda device\n"
          ]
        }
      ]
    },
    {
      "cell_type": "markdown",
      "source": [
        "## **클래스 정의하기**\n",
        "\n",
        "1. 클래스 만들기\n",
        "* init 함수안에 필요한 변수를 초기화 해준다. linearclassfier라면, flatten, layers\n",
        "* forward(순전파) 함수에 layer을 짜준다.\n",
        "\n",
        "2. 모델 사용하기\n",
        "* X을 입력 데이터라고 하면, model(X)로 모델을 사용할 수 있다.\n",
        "* 여기서 forward을 직접 호출하지 않은 이유는 python의 class는 \\_\\_call__가 있는데, 해당 메서드를 사용하면 X을 인풋으로 받는 메서드를 자동으로 실행해준다. Autograd나 backpropagtaion 등을 자동으로 실행해주기 때문에, forward을 직접 실행해주면 안된다.\n",
        "* model(X) 호출 -> model.\\_\\_call__(X) 호출 -> nn.Module에서 X을 인풋으로 받는 모든 함수 실행(backpropagation, autograd, forward...) -> 결과 반환\n",
        "\n"
      ],
      "metadata": {
        "id": "QZXi6NrNlyIQ"
      }
    },
    {
      "cell_type": "code",
      "source": [
        "class NeuralNetwork(nn.Module) : # nn.Module 상속받음\n",
        "  def __init__(self) :\n",
        "    super().__init__() # 부모 클래스의 생성자 불러서 초기화\n",
        "\n",
        "    self.flatten = nn.Flatten() # linear classifier니까 평탄화 계층 (input layer)\n",
        "\n",
        "    self.linear_relu_stack = nn.Sequential( # 모델의 계층 구조\n",
        "        nn.Linear(28*28, 512), # Input layer : 784 -> 512\n",
        "        nn.ReLU(), # Activation function\n",
        "        nn.Linear(512,512), # Hidden Layer : 512 -> 512\n",
        "        nn.ReLU(), # Activation function\n",
        "        nn.Linear(512,10) # Output Layer : 512 -> 10\n",
        "    )\n",
        "\n",
        "  def forward(self,x) : # 신경망의 순전파를 정의하는 메서드, 데이터가 각 계층을 통해 어떻게 흐르는지 정의\n",
        "    x = self.flatten(x) # 데이터를 평탄화하고\n",
        "    logits = self.linear_relu_stack(x) # 앞에서 정의내렸던 모델 계층구조에 넣어주기\n",
        "    return logits # 반환, softmax..."
      ],
      "metadata": {
        "id": "_E2cVhSSl1D0"
      },
      "execution_count": 16,
      "outputs": []
    },
    {
      "cell_type": "code",
      "source": [
        "# 모델을 gpu 장치로 이동\n",
        "model = NeuralNetwork().to(device)\n",
        "print(model)"
      ],
      "metadata": {
        "colab": {
          "base_uri": "https://localhost:8080/"
        },
        "id": "EplB6tYNqcjC",
        "outputId": "077608c6-4b39-41be-83bf-0b88b431b180"
      },
      "execution_count": 40,
      "outputs": [
        {
          "output_type": "stream",
          "name": "stdout",
          "text": [
            "['T_destination', '__annotations__', '__call__', '__class__', '__delattr__', '__dict__', '__dir__', '__doc__', '__eq__', '__format__', '__ge__', '__getattr__', '__getattribute__', '__getstate__', '__gt__', '__hash__', '__init__', '__init_subclass__', '__le__', '__lt__', '__module__', '__ne__', '__new__', '__reduce__', '__reduce_ex__', '__repr__', '__setattr__', '__setstate__', '__sizeof__', '__str__', '__subclasshook__', '__weakref__', '_apply', '_backward_hooks', '_backward_pre_hooks', '_buffers', '_call_impl', '_compiled_call_impl', '_forward_hooks', '_forward_hooks_always_called', '_forward_hooks_with_kwargs', '_forward_pre_hooks', '_forward_pre_hooks_with_kwargs', '_get_backward_hooks', '_get_backward_pre_hooks', '_get_name', '_is_full_backward_hook', '_load_from_state_dict', '_load_state_dict_post_hooks', '_load_state_dict_pre_hooks', '_maybe_warn_non_full_backward_hook', '_modules', '_named_members', '_non_persistent_buffers_set', '_parameters', '_register_load_state_dict_pre_hook', '_register_state_dict_hook', '_replicate_for_data_parallel', '_save_to_state_dict', '_slow_forward', '_state_dict_hooks', '_state_dict_pre_hooks', '_version', '_wrapped_call_impl', 'add_module', 'apply', 'bfloat16', 'buffers', 'call_super_init', 'children', 'compile', 'cpu', 'cuda', 'double', 'dump_patches', 'eval', 'extra_repr', 'flatten', 'float', 'forward', 'get_buffer', 'get_extra_state', 'get_parameter', 'get_submodule', 'half', 'ipu', 'linear_relu_stack', 'load_state_dict', 'modules', 'named_buffers', 'named_children', 'named_modules', 'named_parameters', 'parameters', 'register_backward_hook', 'register_buffer', 'register_forward_hook', 'register_forward_pre_hook', 'register_full_backward_hook', 'register_full_backward_pre_hook', 'register_load_state_dict_post_hook', 'register_module', 'register_parameter', 'register_state_dict_pre_hook', 'requires_grad_', 'set_extra_state', 'share_memory', 'state_dict', 'to', 'to_empty', 'train', 'training', 'type', 'xpu', 'zero_grad']\n",
            "NeuralNetwork(\n",
            "  (flatten): Flatten(start_dim=1, end_dim=-1)\n",
            "  (linear_relu_stack): Sequential(\n",
            "    (0): Linear(in_features=784, out_features=512, bias=True)\n",
            "    (1): ReLU()\n",
            "    (2): Linear(in_features=512, out_features=512, bias=True)\n",
            "    (3): ReLU()\n",
            "    (4): Linear(in_features=512, out_features=10, bias=True)\n",
            "  )\n",
            ")\n"
          ]
        }
      ]
    },
    {
      "cell_type": "code",
      "source": [
        "# 모델을 사용하기 위해 입력 데이터를 전달합니다.\n",
        "# forward 연산을 진행하는데, model.forward()를 직접 호출하면 안된다.\n",
        "\n",
        "X = torch.rand(1,28,28, device = device)\n",
        "# __call__ 메서드를 통해 인스턴스를 함수처럼 호출 가능. forward, autograd, hooks 등 __call__ 메서드에 등록된 모든 훅을 다 호출\n",
        "logits = model(X) # logit : 딥러닝에서 확률을 이해하는 데 일반적으로 사용되는 함수\n",
        "print(logits.shape) # 10개의 확률로 나올거임.\n",
        "pred_probab = nn.Softmax(dim=1)(logits) # logits scores -> softmax(지수함수) -> 0~1\n",
        "print(pred_probab)\n",
        "y_pred = pred_probab.argmax(1) # softmax 출력에서 가장 높은 확률 값을 반환\n",
        "print(f\"Predicted class: {y_pred}\")"
      ],
      "metadata": {
        "colab": {
          "base_uri": "https://localhost:8080/"
        },
        "id": "sn4GwoIBXcUC",
        "outputId": "04f8b553-2871-40e6-f4d7-aa42de066445"
      },
      "execution_count": 44,
      "outputs": [
        {
          "output_type": "stream",
          "name": "stdout",
          "text": [
            "torch.Size([1, 10])\n",
            "tensor([[0.0991, 0.1073, 0.1036, 0.1010, 0.0961, 0.0982, 0.0966, 0.0963, 0.1017,\n",
            "         0.1000]], device='cuda:0', grad_fn=<SoftmaxBackward0>)\n",
            "Predicted class: tensor([1], device='cuda:0')\n"
          ]
        }
      ]
    },
    {
      "cell_type": "markdown",
      "source": [
        "# **모델계층**\n",
        "\n",
        "* nn.Flatten\n",
        "* nn.Linear\n",
        "* nn.ReLU\n",
        "* nn.Sequential\n",
        "* nn.Softmax"
      ],
      "metadata": {
        "id": "h4pUKmqWlEU3"
      }
    },
    {
      "cell_type": "code",
      "source": [
        "import matplotlib.pyplot as plt\n",
        "\n",
        "input_image = torch.rand(3,28,28)\n",
        "print(input_image.size())\n",
        "plt.imshow(input_image[i])"
      ],
      "metadata": {
        "colab": {
          "base_uri": "https://localhost:8080/",
          "height": 467
        },
        "id": "lUfl12uHlKYj",
        "outputId": "76bc99f7-db41-43cc-e843-b9f33223601e"
      },
      "execution_count": 54,
      "outputs": [
        {
          "output_type": "stream",
          "name": "stdout",
          "text": [
            "torch.Size([3, 28, 28])\n"
          ]
        },
        {
          "output_type": "execute_result",
          "data": {
            "text/plain": [
              "<matplotlib.image.AxesImage at 0x7ab0af0b2c20>"
            ]
          },
          "metadata": {},
          "execution_count": 54
        },
        {
          "output_type": "display_data",
          "data": {
            "text/plain": [
              "<Figure size 640x480 with 1 Axes>"
            ],
            "image/png": "[encoded data removed]"
          },
          "metadata": {}
        }
      ]
    },
    {
      "cell_type": "code",
      "source": [
        "# nn.Flatten\n",
        "\n",
        "flatten = nn.Flatten() #함수가 아니라 layer로 설계되어있음.\n",
        "flat_image = flatten(input_image)\n",
        "print(flat_image.size())"
      ],
      "metadata": {
        "colab": {
          "base_uri": "https://localhost:8080/"
        },
        "id": "g7gW8i33mPsi",
        "outputId": "28c1bc74-281c-45e4-862f-aebebac8ab27"
      },
      "execution_count": 60,
      "outputs": [
        {
          "output_type": "stream",
          "name": "stdout",
          "text": [
            "torch.Size([3, 784])\n"
          ]
        }
      ]
    },
    {
      "cell_type": "code",
      "source": [
        "# nn.Linear\n",
        "# 선형 계층은 저장된 weight와 bias을 사용하여 입력에 선형 변환을 적용하는 모듈\n",
        "layer1 = nn.Linear(in_features= 28*28, out_features=20)\n",
        "hidden1 = layer1(flat_image)\n",
        "print(hidden1.size())"
      ],
      "metadata": {
        "colab": {
          "base_uri": "https://localhost:8080/"
        },
        "id": "k2ngzNpzoBI6",
        "outputId": "0af5ab3c-968a-407a-e4eb-20dd636476c4"
      },
      "execution_count": 61,
      "outputs": [
        {
          "output_type": "stream",
          "name": "stdout",
          "text": [
            "torch.Size([3, 20])\n"
          ]
        }
      ]
    },
    {
      "cell_type": "code",
      "source": [
        "# nn.ReLU : activation function\n",
        "print(f\"Before ReLU : {hidden1}\\n\\n\")\n",
        "hidden1 = nn.ReLU()(hidden1)\n",
        "print(f\"After ReLU : {hidden1}\")"
      ],
      "metadata": {
        "colab": {
          "base_uri": "https://localhost:8080/"
        },
        "id": "OBBZRiUpoVJr",
        "outputId": "24ead644-54ee-4957-bc95-b22372501c32"
      },
      "execution_count": 64,
      "outputs": [
        {
          "output_type": "stream",
          "name": "stdout",
          "text": [
            "Before ReLU : tensor([[0.0241, 0.2159, 0.0000, 0.0000, 0.0000, 0.5129, 0.0000, 0.1659, 0.0000,\n",
            "         0.5425, 0.0000, 0.0000, 0.3110, 0.6865, 0.1800, 0.6179, 0.0000, 0.0000,\n",
            "         0.2328, 0.0000],\n",
            "        [0.0000, 0.1572, 0.0000, 0.2321, 0.0000, 0.0000, 0.0000, 0.0000, 0.0000,\n",
            "         0.5361, 0.0000, 0.0000, 0.2739, 0.1735, 0.0000, 0.6054, 0.0000, 0.0000,\n",
            "         0.2025, 0.0000],\n",
            "        [0.2473, 0.0000, 0.0000, 0.2343, 0.0602, 0.1492, 0.0000, 0.1200, 0.0000,\n",
            "         0.3004, 0.0000, 0.0000, 0.4862, 0.6640, 0.0419, 0.2449, 0.2179, 0.0000,\n",
            "         0.1212, 0.0000]], grad_fn=<ReluBackward0>)\n",
            "\n",
            "\n",
            "After ReLU : tensor([[0.0241, 0.2159, 0.0000, 0.0000, 0.0000, 0.5129, 0.0000, 0.1659, 0.0000,\n",
            "         0.5425, 0.0000, 0.0000, 0.3110, 0.6865, 0.1800, 0.6179, 0.0000, 0.0000,\n",
            "         0.2328, 0.0000],\n",
            "        [0.0000, 0.1572, 0.0000, 0.2321, 0.0000, 0.0000, 0.0000, 0.0000, 0.0000,\n",
            "         0.5361, 0.0000, 0.0000, 0.2739, 0.1735, 0.0000, 0.6054, 0.0000, 0.0000,\n",
            "         0.2025, 0.0000],\n",
            "        [0.2473, 0.0000, 0.0000, 0.2343, 0.0602, 0.1492, 0.0000, 0.1200, 0.0000,\n",
            "         0.3004, 0.0000, 0.0000, 0.4862, 0.6640, 0.0419, 0.2449, 0.2179, 0.0000,\n",
            "         0.1212, 0.0000]], grad_fn=<ReluBackward0>)\n"
          ]
        }
      ]
    },
    {
      "cell_type": "code",
      "source": [
        "# nn.Sequential : 순서를 갖는 모듈의 컨테이너, 빠르게 신경망을 만들 수 있음\n",
        "seq_models = nn.Sequential(\n",
        "    flatten,\n",
        "    layer1,\n",
        "    nn.ReLU(),\n",
        "    nn.Linear(20,10)\n",
        ")\n",
        "input_image = torch.rand(3,28,28)\n",
        "logits = seq_models(input_image)"
      ],
      "metadata": {
        "id": "0t2cMGZyo0aE"
      },
      "execution_count": 65,
      "outputs": []
    },
    {
      "cell_type": "code",
      "source": [
        "# nn.Softmax : raw value logits을 0~1로 scaling해줌. dim은 값의 합이 1이 되는 차원\n",
        "softmax = nn.Softmax(dim=1)\n",
        "pred_probab = softmax(logits)"
      ],
      "metadata": {
        "id": "yYlyuJ76pLTc"
      },
      "execution_count": 66,
      "outputs": []
    },
    {
      "cell_type": "markdown",
      "source": [
        "# **모델 매개변수**\n",
        "* 신경망 내부의 많은 계층들은 매개변수화(parameterize)됩니다. 즉, 학습 중에 최적화되는 가중치와 편향과 연관지어집니다. nn.Module을 상속하면 모델 객체 내부의 모든 필드들이 자동으로 추적되며, 모델의 parameters() 및 named_parmeters() 메소드로 모든 매개변수에 접근할 수 있게 됩니다."
      ],
      "metadata": {
        "id": "cvuuBwRkqwLn"
      }
    },
    {
      "cell_type": "code",
      "source": [
        "print(f\"Model structure : {model}\\n\\n\")\n",
        "\n",
        "for name,param in model.named_parameters() :\n",
        "  print(f\"Layer: {name} | Size: {param.size()} | Values : {param[:2]}\\n\")"
      ],
      "metadata": {
        "colab": {
          "base_uri": "https://localhost:8080/"
        },
        "id": "lAkZDSImq0fZ",
        "outputId": "d31ea989-ea63-48bc-8056-42571ddcb57f"
      },
      "execution_count": 69,
      "outputs": [
        {
          "output_type": "stream",
          "name": "stdout",
          "text": [
            "Model structure : NeuralNetwork(\n",
            "  (flatten): Flatten(start_dim=1, end_dim=-1)\n",
            "  (linear_relu_stack): Sequential(\n",
            "    (0): Linear(in_features=784, out_features=512, bias=True)\n",
            "    (1): ReLU()\n",
            "    (2): Linear(in_features=512, out_features=512, bias=True)\n",
            "    (3): ReLU()\n",
            "    (4): Linear(in_features=512, out_features=10, bias=True)\n",
            "  )\n",
            ")\n",
            "\n",
            "\n",
            "Layer: linear_relu_stack.0.weight | Size: torch.Size([512, 784]) | Values : tensor([[ 0.0163, -0.0284,  0.0082,  ...,  0.0212, -0.0200,  0.0028],\n",
            "        [-0.0260,  0.0190,  0.0260,  ..., -0.0267,  0.0120, -0.0056]],\n",
            "       device='cuda:0', grad_fn=<SliceBackward0>)\n",
            "\n",
            "Layer: linear_relu_stack.0.bias | Size: torch.Size([512]) | Values : tensor([ 0.0251, -0.0172], device='cuda:0', grad_fn=<SliceBackward0>)\n",
            "\n",
            "Layer: linear_relu_stack.2.weight | Size: torch.Size([512, 512]) | Values : tensor([[-0.0032, -0.0441, -0.0209,  ..., -0.0159,  0.0388, -0.0192],\n",
            "        [ 0.0242, -0.0132, -0.0412,  ...,  0.0011, -0.0040,  0.0152]],\n",
            "       device='cuda:0', grad_fn=<SliceBackward0>)\n",
            "\n",
            "Layer: linear_relu_stack.2.bias | Size: torch.Size([512]) | Values : tensor([0.0411, 0.0112], device='cuda:0', grad_fn=<SliceBackward0>)\n",
            "\n",
            "Layer: linear_relu_stack.4.weight | Size: torch.Size([10, 512]) | Values : tensor([[-0.0405,  0.0322,  0.0299,  ...,  0.0379, -0.0019, -0.0211],\n",
            "        [-0.0441,  0.0238,  0.0363,  ...,  0.0047,  0.0239,  0.0258]],\n",
            "       device='cuda:0', grad_fn=<SliceBackward0>)\n",
            "\n",
            "Layer: linear_relu_stack.4.bias | Size: torch.Size([10]) | Values : tensor([0.0201, 0.0331], device='cuda:0', grad_fn=<SliceBackward0>)\n",
            "\n"
          ]
        }
      ]
    }
  ]
}