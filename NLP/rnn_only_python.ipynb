{
  "nbformat": 4,
  "nbformat_minor": 0,
  "metadata": {
    "colab": {
      "provenance": [],
      "authorship_tag": "ABX9TyM52NwLvX7c0n0YuFbDkzQ6",
      "include_colab_link": true
    },
    "kernelspec": {
      "name": "python3",
      "display_name": "Python 3"
    },
    "language_info": {
      "name": "python"
    }
  },
  "cells": [
    {
      "cell_type": "markdown",
      "metadata": {
        "id": "view-in-github",
        "colab_type": "text"
      },
      "source": [
        "<a href=\"https://colab.research.google.com/github/imy0ung/AI_Basic_Study/blob/main/NLP/rnn_only_python.ipynb\" target=\"_parent\"><img src=\"https://colab.research.google.com/assets/colab-badge.svg\" alt=\"Open In Colab\"/></a>"
      ]
    },
    {
      "cell_type": "code",
      "execution_count": 1,
      "metadata": {
        "id": "KXlDhV6y8uBU"
      },
      "outputs": [],
      "source": [
        "import numpy as np"
      ]
    },
    {
      "cell_type": "code",
      "source": [
        "timesteps = 10 # 문장의 길이\n",
        "input_size = 4  # 입력의 차원.\n",
        "hidden_size = 8 # 은닉 상태의 크기. 메모리 셀의 용량\n",
        "\n",
        "inputs = np.random.random((timesteps,input_size))"
      ],
      "metadata": {
        "id": "-tdjZH0i819n"
      },
      "execution_count": 7,
      "outputs": []
    },
    {
      "cell_type": "code",
      "source": [
        "inputs # 10,4"
      ],
      "metadata": {
        "colab": {
          "base_uri": "https://localhost:8080/"
        },
        "id": "1TeME9mx9t1X",
        "outputId": "1e2f81ea-18f7-4d6a-ba41-098dc314da58"
      },
      "execution_count": 8,
      "outputs": [
        {
          "output_type": "execute_result",
          "data": {
            "text/plain": [
              "array([[0.73002941, 0.86891721, 0.97496576, 0.37844871],\n",
              "       [0.69739132, 0.72773588, 0.55086608, 0.42698747],\n",
              "       [0.29364876, 0.28173413, 0.05029384, 0.05089871],\n",
              "       [0.47170169, 0.2646567 , 0.02208793, 0.39550899],\n",
              "       [0.19356638, 0.02490659, 0.87188877, 0.82393973],\n",
              "       [0.96332162, 0.44160462, 0.94931713, 0.70372645],\n",
              "       [0.71015892, 0.66678813, 0.70322681, 0.41211555],\n",
              "       [0.16039925, 0.28349119, 0.86248523, 0.58230975],\n",
              "       [0.99852567, 0.51376286, 0.47655242, 0.01146827],\n",
              "       [0.85498132, 0.91659483, 0.5940869 , 0.21093951]])"
            ]
          },
          "metadata": {},
          "execution_count": 8
        }
      ]
    },
    {
      "cell_type": "code",
      "source": [
        "hidden_state_t = np.zeros((hidden_size,))\n",
        "hidden_state_t"
      ],
      "metadata": {
        "colab": {
          "base_uri": "https://localhost:8080/"
        },
        "id": "u0-sv4_k97ys",
        "outputId": "99a60d59-95da-4dd0-b46d-b6d6efb5d2c6"
      },
      "execution_count": 10,
      "outputs": [
        {
          "output_type": "execute_result",
          "data": {
            "text/plain": [
              "array([0., 0., 0., 0., 0., 0., 0., 0.])"
            ]
          },
          "metadata": {},
          "execution_count": 10
        }
      ]
    },
    {
      "cell_type": "code",
      "source": [
        "Wx = np.random.random((hidden_size, input_size))\n",
        "Wh = np.random.random((hidden_size, hidden_size))\n",
        "b = np.random.random((hidden_size,))"
      ],
      "metadata": {
        "id": "1y1tRMUN-m46"
      },
      "execution_count": 21,
      "outputs": []
    },
    {
      "cell_type": "code",
      "source": [
        "total_hidden_states = []\n",
        "for input_t in inputs :\n",
        "  output_t = np.tanh(np.dot(Wx,input_t) + np.dot(Wh,hidden_state_t) + b)\n",
        "  total_hidden_states.append(list(output_t))\n",
        "  print(np.shape(total_hidden_states))\n",
        "  hidden_state_t = output_t\n",
        "\n",
        "total_hidden_stats = np.stack(total_hidden_states, axis = 0)\n",
        "print(total_hidden_stats) # 은닉층의 업데이트된 가중치들"
      ],
      "metadata": {
        "colab": {
          "base_uri": "https://localhost:8080/"
        },
        "id": "U7vtbb_hBYWA",
        "outputId": "9efb655e-4c44-417c-9dff-0522a7019b01"
      },
      "execution_count": 34,
      "outputs": [
        {
          "output_type": "stream",
          "name": "stdout",
          "text": [
            "(1, 8)\n",
            "(2, 8)\n",
            "(3, 8)\n",
            "(4, 8)\n",
            "(5, 8)\n",
            "(6, 8)\n",
            "(7, 8)\n",
            "(8, 8)\n",
            "(9, 8)\n",
            "(10, 8)\n",
            "[[0.99999651 0.9999762  0.99998211 0.99998939 0.99997289 0.99939226\n",
            "  0.9999959  0.99990555]\n",
            " [0.99999352 0.99997004 0.99996257 0.99998258 0.9999538  0.99912571\n",
            "  0.99999135 0.99985513]\n",
            " [0.99995056 0.99991436 0.9997241  0.99988746 0.99986755 0.99576165\n",
            "  0.99991587 0.99920107]\n",
            " [0.99997116 0.99994141 0.99980908 0.99994634 0.99988437 0.9972162\n",
            "  0.9999551  0.99948996]\n",
            " [0.99998656 0.99995362 0.99986199 0.99997981 0.99994884 0.99801964\n",
            "  0.9999888  0.99944117]\n",
            " [0.99999642 0.99998095 0.99998232 0.99999504 0.99997177 0.99910978\n",
            "  0.99999587 0.99990722]\n",
            " [0.99999391 0.99997095 0.99996751 0.99998525 0.99995976 0.99905163\n",
            "  0.99999217 0.99985747]\n",
            " [0.99998716 0.99995027 0.99988298 0.99997141 0.99995051 0.99835181\n",
            "  0.9999883  0.99951141]\n",
            " [0.9999883  0.99996602 0.9999684  0.99998054 0.99994501 0.99780086\n",
            "  0.99997701 0.99985098]\n",
            " [0.99999479 0.99997323 0.99997799 0.99998394 0.99996004 0.99922939\n",
            "  0.99999197 0.99990359]]\n"
          ]
        }
      ]
    },
    {
      "cell_type": "code",
      "source": [],
      "metadata": {
        "id": "i1Ydj6iODKDs"
      },
      "execution_count": null,
      "outputs": []
    }
  ]
}