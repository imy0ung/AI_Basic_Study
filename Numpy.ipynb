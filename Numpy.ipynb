{
  "nbformat": 4,
  "nbformat_minor": 0,
  "metadata": {
    "colab": {
      "provenance": [],
      "authorship_tag": "ABX9TyNBoVHFgEZdFbLM2tcFBm1l",
      "include_colab_link": true
    },
    "kernelspec": {
      "name": "python3",
      "display_name": "Python 3"
    },
    "language_info": {
      "name": "python"
    }
  },
  "cells": [
    {
      "cell_type": "markdown",
      "metadata": {
        "id": "view-in-github",
        "colab_type": "text"
      },
      "source": [
        "<a href=\"https://colab.research.google.com/github/imy0ung/AI_Basic_Study/blob/main/Numpy.ipynb\" target=\"_parent\"><img src=\"https://colab.research.google.com/assets/colab-badge.svg\" alt=\"Open In Colab\"/></a>"
      ]
    },
    {
      "cell_type": "markdown",
      "source": [
        "## **Numpy**\n",
        "\n",
        "\n",
        "\n",
        "*   행렬 계산을 위한 파이썬의 외부 라이브러리\n",
        "*   복잡한 행렬계산, 선형대수, 통계 등의 기능 제공\n",
        "*   Matlab 행렬 계산 기능과 유사\n"
      ],
      "metadata": {
        "id": "XCtkWk96E8gK"
      }
    },
    {
      "cell_type": "code",
      "source": [
        "# 모듈 import\n",
        "import numpy as np\n",
        "\n",
        "# 버전 체크\n",
        "print(np.__version__)\n",
        "print(np.__name__)"
      ],
      "metadata": {
        "colab": {
          "base_uri": "https://localhost:8080/"
        },
        "id": "QTtXrD7dFnvG",
        "outputId": "1378db62-e9cc-4db8-ab1f-201d2aa872b0"
      },
      "execution_count": 4,
      "outputs": [
        {
          "output_type": "stream",
          "name": "stdout",
          "text": [
            "1.25.2\n",
            "numpy\n"
          ]
        }
      ]
    },
    {
      "cell_type": "code",
      "source": [
        "# Numpy는 list가 아닌 ndarray을 사용함\n",
        "# list와 다르게 고성능 수치 계산이 가능, 인공지능에서 매우 유용\n",
        "\n",
        "myarray = np.array([1,2,3])\n",
        "print(myarray)\n",
        "print(type(myarray))"
      ],
      "metadata": {
        "colab": {
          "base_uri": "https://localhost:8080/"
        },
        "id": "ECECd4JVGKEE",
        "outputId": "64f1ee93-b7f4-4e2e-f275-870a500a972e"
      },
      "execution_count": 8,
      "outputs": [
        {
          "output_type": "stream",
          "name": "stdout",
          "text": [
            "[1 2 3]\n",
            "<class 'numpy.ndarray'>\n"
          ]
        }
      ]
    },
    {
      "cell_type": "markdown",
      "source": [
        "## **행렬의 정보 확인하기**\n",
        "\n",
        "\n",
        "\n",
        "1. ndim\n",
        "2. shape\n",
        "3. dtype\n",
        "4. size\n"
      ],
      "metadata": {
        "id": "CKIIwNlbJDpl"
      }
    },
    {
      "cell_type": "code",
      "source": [
        "# n차원 matrix도 가능\n",
        "myarray = np.array([[1,2,3],[4,5,6],[7,8,9]])"
      ],
      "metadata": {
        "id": "fxOMmG9JHmnJ",
        "colab": {
          "base_uri": "https://localhost:8080/"
        },
        "outputId": "f8a28f49-b3f7-47d1-d5de-721243740088"
      },
      "execution_count": 85,
      "outputs": [
        {
          "output_type": "stream",
          "name": "stdout",
          "text": [
            "2\n",
            "(3, 3)\n",
            "int64\n",
            "9\n"
          ]
        }
      ]
    },
    {
      "cell_type": "code",
      "source": [
        "#1 ndim : 배열의 차원\n",
        "print(myarray.ndim)"
      ],
      "metadata": {
        "colab": {
          "base_uri": "https://localhost:8080/"
        },
        "id": "Xf6kZ_jQdFCR",
        "outputId": "f3fc58e5-c978-4f2c-eb14-2657a5bac0fc"
      },
      "execution_count": 86,
      "outputs": [
        {
          "output_type": "stream",
          "name": "stdout",
          "text": [
            "2\n"
          ]
        }
      ]
    },
    {
      "cell_type": "code",
      "source": [
        "#2 shape : 크기 확인\n",
        "print(myarray.shape)"
      ],
      "metadata": {
        "colab": {
          "base_uri": "https://localhost:8080/"
        },
        "id": "Ok0QakkcdHKY",
        "outputId": "73c1cc5d-9244-4abc-9057-8a3bcc03ebf7"
      },
      "execution_count": 87,
      "outputs": [
        {
          "output_type": "stream",
          "name": "stdout",
          "text": [
            "(3, 3)\n"
          ]
        }
      ]
    },
    {
      "cell_type": "code",
      "source": [
        "#3 dtype : 타입 확인\n",
        "print(myarray.dtype)"
      ],
      "metadata": {
        "colab": {
          "base_uri": "https://localhost:8080/"
        },
        "id": "RxqdKVYndJWW",
        "outputId": "60dffce4-d7ed-4746-ce71-e173b66f8c08"
      },
      "execution_count": 88,
      "outputs": [
        {
          "output_type": "stream",
          "name": "stdout",
          "text": [
            "int64\n"
          ]
        }
      ]
    },
    {
      "cell_type": "code",
      "source": [
        "#4 size : 총 요소의 수\n",
        "print(myarray.size)"
      ],
      "metadata": {
        "colab": {
          "base_uri": "https://localhost:8080/"
        },
        "id": "7eR3UnLidLwi",
        "outputId": "b4d7f0dd-b190-447a-c96e-e42c0ce8343b"
      },
      "execution_count": 89,
      "outputs": [
        {
          "output_type": "stream",
          "name": "stdout",
          "text": [
            "9\n"
          ]
        }
      ]
    },
    {
      "cell_type": "markdown",
      "source": [
        "# **행렬 생성 및 조작**\n",
        "\n",
        "> 업데이트 중 (2024.07.22)\n",
        "\n",
        "\n",
        "\n",
        "1. arange\n",
        "2. linspace\n",
        "3. zeros, ones, full\n",
        "4. eye\n",
        "5. reshape\n",
        "6. transpose\n",
        "7. flatten\n",
        "\n",
        "\n",
        "\n"
      ],
      "metadata": {
        "id": "ilXjmZVpKRth"
      }
    },
    {
      "cell_type": "code",
      "source": [
        "#1 arange : range()와 유사, 범위를 통해 array 생성\n",
        "arr1 = np.arange(10)\n",
        "print(arr1)\n",
        "\n",
        "arr2 = np.arange(2,10)\n",
        "print(arr2)\n",
        "\n",
        "arr3 = np.arange(1,10,2)\n",
        "print(arr3)"
      ],
      "metadata": {
        "colab": {
          "base_uri": "https://localhost:8080/"
        },
        "id": "bu7TxzTuKZI4",
        "outputId": "c5bcb94e-a48d-4d40-a286-637f31abe363"
      },
      "execution_count": 84,
      "outputs": [
        {
          "output_type": "stream",
          "name": "stdout",
          "text": [
            "[0 1 2 3 4 5 6 7 8 9]\n",
            "[2 3 4 5 6 7 8 9]\n",
            "[1 3 5 7 9]\n"
          ]
        }
      ]
    },
    {
      "cell_type": "code",
      "source": [
        "#2 linspace : 수의 범위를 균일하게 나누고자 할 때 사용\n",
        "print(np.linspace(1,10,3))"
      ],
      "metadata": {
        "colab": {
          "base_uri": "https://localhost:8080/"
        },
        "id": "-nD7pJ0fcnYx",
        "outputId": "d9b7aa74-3f5b-4c0c-c309-ce6f954b4db7"
      },
      "execution_count": 78,
      "outputs": [
        {
          "output_type": "stream",
          "name": "stdout",
          "text": [
            "[ 1.   5.5 10. ]\n"
          ]
        }
      ]
    },
    {
      "cell_type": "code",
      "source": [
        "#3 zeros, ones, full\n",
        "print(np.zeros(shape=(3,5)))\n",
        "print(np.ones(shape=(3,5),dtype = int))\n",
        "print(np.full(shape=(3,5),fill_value=7))"
      ],
      "metadata": {
        "colab": {
          "base_uri": "https://localhost:8080/"
        },
        "id": "yxE2C5_BcpTj",
        "outputId": "b4114fa8-5397-4b0c-aaa0-385009c3a865"
      },
      "execution_count": 79,
      "outputs": [
        {
          "output_type": "stream",
          "name": "stdout",
          "text": [
            "[[0. 0. 0. 0. 0.]\n",
            " [0. 0. 0. 0. 0.]\n",
            " [0. 0. 0. 0. 0.]]\n",
            "[[1 1 1 1 1]\n",
            " [1 1 1 1 1]\n",
            " [1 1 1 1 1]]\n",
            "[[7 7 7 7 7]\n",
            " [7 7 7 7 7]\n",
            " [7 7 7 7 7]]\n"
          ]
        }
      ]
    },
    {
      "cell_type": "code",
      "source": [
        "#4 eye : 항등 행렬\n",
        "print(np.eye(5))"
      ],
      "metadata": {
        "colab": {
          "base_uri": "https://localhost:8080/"
        },
        "id": "eqtNswiecrVe",
        "outputId": "325b0b07-6355-4e20-ce48-2fd397fcebf6"
      },
      "execution_count": 80,
      "outputs": [
        {
          "output_type": "stream",
          "name": "stdout",
          "text": [
            "[[1. 0. 0. 0. 0.]\n",
            " [0. 1. 0. 0. 0.]\n",
            " [0. 0. 1. 0. 0.]\n",
            " [0. 0. 0. 1. 0.]\n",
            " [0. 0. 0. 0. 1.]]\n"
          ]
        }
      ]
    },
    {
      "cell_type": "code",
      "source": [
        "#5 reshape : 행렬의 형태 변경\n",
        "arr4 = np.arange(15)\n",
        "print(arr4.reshape(3,5))\n",
        "print(arr4.reshape(3,-1)) # -1은 자동으로 계산\n",
        "print(arr4.reshape(-1,3))"
      ],
      "metadata": {
        "colab": {
          "base_uri": "https://localhost:8080/"
        },
        "id": "PV6An9uZcuL3",
        "outputId": "1e99171d-89bf-44a1-96f7-9ce4f8b5a40f"
      },
      "execution_count": 81,
      "outputs": [
        {
          "output_type": "stream",
          "name": "stdout",
          "text": [
            "[[ 0  1  2  3  4]\n",
            " [ 5  6  7  8  9]\n",
            " [10 11 12 13 14]]\n",
            "[[ 0  1  2  3  4]\n",
            " [ 5  6  7  8  9]\n",
            " [10 11 12 13 14]]\n",
            "[[ 0  1  2]\n",
            " [ 3  4  5]\n",
            " [ 6  7  8]\n",
            " [ 9 10 11]\n",
            " [12 13 14]]\n"
          ]
        }
      ]
    },
    {
      "cell_type": "code",
      "source": [
        "#6 transpose : 전치 행렬\n",
        "arr5 = np.arange(15).reshape(3,5)\n",
        "print(arr5)\n",
        "print(arr5.T)\n",
        "print(arr5.transpose())"
      ],
      "metadata": {
        "colab": {
          "base_uri": "https://localhost:8080/"
        },
        "id": "ysio7UbTcxQM",
        "outputId": "3ec4946c-0424-42cd-d410-8952b9acb4cc"
      },
      "execution_count": 82,
      "outputs": [
        {
          "output_type": "stream",
          "name": "stdout",
          "text": [
            "[[ 0  1  2  3  4]\n",
            " [ 5  6  7  8  9]\n",
            " [10 11 12 13 14]]\n",
            "[[ 0  5 10]\n",
            " [ 1  6 11]\n",
            " [ 2  7 12]\n",
            " [ 3  8 13]\n",
            " [ 4  9 14]]\n",
            "[[ 0  5 10]\n",
            " [ 1  6 11]\n",
            " [ 2  7 12]\n",
            " [ 3  8 13]\n",
            " [ 4  9 14]]\n"
          ]
        }
      ]
    },
    {
      "cell_type": "code",
      "source": [
        "#7 flatten : 1차원으로 변경\n",
        "arr6 = np.arange(15).reshape(3,5)\n",
        "print(arr6)\n",
        "print(arr6.ravel())\n",
        "print(arr6.flatten())"
      ],
      "metadata": {
        "colab": {
          "base_uri": "https://localhost:8080/"
        },
        "id": "Wi9ch03hczGe",
        "outputId": "b19196b0-78b9-4def-a590-438c3758ceb1"
      },
      "execution_count": 83,
      "outputs": [
        {
          "output_type": "stream",
          "name": "stdout",
          "text": [
            "[[ 0  1  2  3  4]\n",
            " [ 5  6  7  8  9]\n",
            " [10 11 12 13 14]]\n",
            "[ 0  1  2  3  4  5  6  7  8  9 10 11 12 13 14]\n",
            "[ 0  1  2  3  4  5  6  7  8  9 10 11 12 13 14]\n"
          ]
        }
      ]
    },
    {
      "cell_type": "markdown",
      "source": [
        "# **행렬 연산**\n",
        "\n",
        "1.  element-wise-operations\n",
        "2.  broadcasting\n",
        "3.  matrix 곱셈\n",
        "4.  boolean indexing\n",
        "5.  fancy indexing\n",
        "6.  배열 참조\n",
        "7.  where"
      ],
      "metadata": {
        "id": "n3dKzHR2PqjZ"
      }
    },
    {
      "cell_type": "code",
      "source": [
        "#1 element-wise operations : 행렬끼리의 연산, shape가 맞아야 함\n",
        "x = np.array([[10,20],[30,40]])\n",
        "y = np.array([[5,6],[7,8]])\n",
        "print(x)\n",
        "print(y)\n",
        "\n",
        "print(x+y)\n",
        "print(x-y)\n",
        "print(x*y)\n",
        "print(x/y)\n",
        "print(x%y)\n",
        "print(x//y)\n",
        "\n",
        "\n",
        "x = np.array([[1,2,3],[3,4,5]])\n",
        "y = np.array([1, 2])\n",
        "# print(x+y) error! shape이 안맞음"
      ],
      "metadata": {
        "colab": {
          "base_uri": "https://localhost:8080/"
        },
        "id": "QlJqGZptP2he",
        "outputId": "62330c3a-b050-4514-ec3a-4b44fc4c9e0e"
      },
      "execution_count": 69,
      "outputs": [
        {
          "output_type": "stream",
          "name": "stdout",
          "text": [
            "[[10 20]\n",
            " [30 40]]\n",
            "[[5 6]\n",
            " [7 8]]\n",
            "[[15 26]\n",
            " [37 48]]\n",
            "[[ 5 14]\n",
            " [23 32]]\n",
            "[[ 50 120]\n",
            " [210 320]]\n",
            "[[2.         3.33333333]\n",
            " [4.28571429 5.        ]]\n",
            "[[0 2]\n",
            " [2 0]]\n",
            "[[2 3]\n",
            " [4 5]]\n",
            "[[11 12 13]\n",
            " [13 14 15]]\n",
            "[[ 1  4  9]\n",
            " [ 9 16 25]]\n",
            "[[1.         1.41421356 1.73205081]\n",
            " [1.73205081 2.         2.23606798]]\n",
            "[[19 22]\n",
            " [43 50]]\n",
            "[[ 1  2  3  4]\n",
            " [ 5  6  7  8]\n",
            " [ 9 10 11 12]]\n",
            "[[False False False False]\n",
            " [False  True  True  True]\n",
            " [ True  True  True  True]]\n",
            "[ 6  7  8  9 10 11 12]\n",
            "[100 101 102 103 104 105 106 107 108 109]\n",
            "[100 102 105]\n",
            "[99  2  3  4  5  6  7  8  9 10 11 12]\n",
            "[99  2  3  4  5]\n",
            "[ 1  2  3  4  5  6  7  8  9 10 11 12]\n",
            "[99  2  3  4  5]\n",
            "[1.1 2.2 1.3 1.4 2.5]\n",
            "[[-1.07746533  0.23848917  1.67960037 -1.30580313]\n",
            " [-1.13889525 -0.78464639  0.7953204   1.64950807]\n",
            " [-0.91948541  2.02837484  0.23634688 -0.46335828]\n",
            " [-1.73197305 -0.61783601  1.7104376  -0.05634082]]\n",
            "[['음수' '양수' '양수' '음수']\n",
            " ['음수' '음수' '양수' '양수']\n",
            " ['음수' '양수' '양수' '음수']\n",
            " ['음수' '음수' '양수' '음수']]\n"
          ]
        }
      ]
    },
    {
      "cell_type": "code",
      "source": [
        "#2 broadcasting : 모든 요소에 대해 연산\n",
        "x = np.array([[1,2,3],[3,4,5]])\n",
        "print(x+10)\n",
        "print(x**2)\n",
        "print(np.sqrt(x))"
      ],
      "metadata": {
        "colab": {
          "base_uri": "https://localhost:8080/"
        },
        "id": "XQ9cERaicXYd",
        "outputId": "73997e0c-3927-4c65-8152-770179e74ebb"
      },
      "execution_count": 71,
      "outputs": [
        {
          "output_type": "stream",
          "name": "stdout",
          "text": [
            "[[11 12 13]\n",
            " [13 14 15]]\n",
            "[[ 1  4  9]\n",
            " [ 9 16 25]]\n",
            "[[1.         1.41421356 1.73205081]\n",
            " [1.73205081 2.         2.23606798]]\n"
          ]
        }
      ]
    },
    {
      "cell_type": "code",
      "source": [
        "#3 matrix 곱셈\n",
        "a = np.array([[1,2],[3,4]])\n",
        "b = np.array([[5,6],[7,8]])\n",
        "print(a@b)"
      ],
      "metadata": {
        "colab": {
          "base_uri": "https://localhost:8080/"
        },
        "id": "PqdWCPsncaja",
        "outputId": "0c22b14f-e2b3-4456-c121-4732e0e38c97"
      },
      "execution_count": 72,
      "outputs": [
        {
          "output_type": "stream",
          "name": "stdout",
          "text": [
            "[[19 22]\n",
            " [43 50]]\n"
          ]
        }
      ]
    },
    {
      "cell_type": "code",
      "source": [
        "#4 boolean indexing : boolean 형태로 masking해서 해당 값에 맞는 걸 꺼내올 수 있음\n",
        "arr = np.arange(1,13).reshape(3,4)\n",
        "print(arr)\n",
        "print(arr>5) # masking\n",
        "print(arr[arr>5])"
      ],
      "metadata": {
        "colab": {
          "base_uri": "https://localhost:8080/"
        },
        "id": "LRqZjUGEccr3",
        "outputId": "996c2ced-1413-487e-a21f-b990290f416d"
      },
      "execution_count": 73,
      "outputs": [
        {
          "output_type": "stream",
          "name": "stdout",
          "text": [
            "[[ 1  2  3  4]\n",
            " [ 5  6  7  8]\n",
            " [ 9 10 11 12]]\n",
            "[[False False False False]\n",
            " [False  True  True  True]\n",
            " [ True  True  True  True]]\n",
            "[ 6  7  8  9 10 11 12]\n"
          ]
        }
      ]
    },
    {
      "cell_type": "code",
      "source": [
        "#5 fancy indexing : array 안에 list을 넣을 수 있음\n",
        "arr = np.arange(100,110)\n",
        "print(arr)\n",
        "idx = [0,2,5]\n",
        "print(arr[idx])"
      ],
      "metadata": {
        "colab": {
          "base_uri": "https://localhost:8080/"
        },
        "id": "92XXYHkCceqB",
        "outputId": "16e60721-8b4a-4d52-c14f-4d901fce092d"
      },
      "execution_count": 74,
      "outputs": [
        {
          "output_type": "stream",
          "name": "stdout",
          "text": [
            "[100 101 102 103 104 105 106 107 108 109]\n",
            "[100 102 105]\n"
          ]
        }
      ]
    },
    {
      "cell_type": "code",
      "source": [
        "#6 배열 참조 : 행렬연산을 할 때, python의 값 참조에 대해 유의해야함\n",
        "a = np.arange(1,13)\n",
        "a1 = a[:5]\n",
        "a1[0] = 99 # 같은 값을 참조하기에, a도 바꿈\n",
        "\n",
        "print(a)\n",
        "print(a1)\n",
        "\n",
        "a = np.arange(1,13)\n",
        "a1 = a[:5].copy() # 방지하려면 copy을 이용\n",
        "a1[0] = 99\n",
        "\n",
        "print(a)\n",
        "print(a1)"
      ],
      "metadata": {
        "colab": {
          "base_uri": "https://localhost:8080/"
        },
        "id": "L_az70b7cgkn",
        "outputId": "9e02a762-f0d9-497a-ad37-69ca23df7f0f"
      },
      "execution_count": 75,
      "outputs": [
        {
          "output_type": "stream",
          "name": "stdout",
          "text": [
            "[99  2  3  4  5  6  7  8  9 10 11 12]\n",
            "[99  2  3  4  5]\n",
            "[ 1  2  3  4  5  6  7  8  9 10 11 12]\n",
            "[99  2  3  4  5]\n"
          ]
        }
      ]
    },
    {
      "cell_type": "code",
      "source": [
        "#7 where : np.where(조건, 참인 경우 배열, 거짓인 경우 배열)\n",
        "xarr = np.array([1.1, 1.2, 1.3, 1.4, 1.5])\n",
        "yarr = np.array([2.1, 2.2, 2.3, 2.4, 2.5])\n",
        "cond = np.array([True, False, True, True, False])\n",
        "print(np.where(cond, xarr, yarr))\n",
        "\n",
        "a = np.random.randn(4, 4)\n",
        "print(a)\n",
        "print(np.where(a > 0, '양수', '음수'))"
      ],
      "metadata": {
        "colab": {
          "base_uri": "https://localhost:8080/"
        },
        "id": "OobVCyX-ciw-",
        "outputId": "b6b7f94e-0889-48f8-ff48-77d2b54d7983"
      },
      "execution_count": 76,
      "outputs": [
        {
          "output_type": "stream",
          "name": "stdout",
          "text": [
            "[1.1 2.2 1.3 1.4 2.5]\n",
            "[[-1.06029955 -1.82207837 -1.21117645  1.48492015]\n",
            " [ 0.74102732  0.71157801  0.29822755  0.46437133]\n",
            " [ 0.11822163  1.94369786  2.42320729 -1.26530807]\n",
            " [-0.02627203 -1.92754197  0.56080222  0.24663925]]\n",
            "[['음수' '음수' '음수' '양수']\n",
            " ['양수' '양수' '양수' '양수']\n",
            " ['양수' '양수' '양수' '음수']\n",
            " ['음수' '음수' '양수' '양수']]\n"
          ]
        }
      ]
    },
    {
      "cell_type": "markdown",
      "source": [
        "# **통계**\n",
        "\n",
        "1.  axis\n",
        "2.  sum\n",
        "3.  mean\n",
        "4.  min, max\n",
        "5.  var,std"
      ],
      "metadata": {
        "id": "ji-YPJQpXaNv"
      }
    },
    {
      "cell_type": "code",
      "source": [
        "#1 axis : 0은 행, 1은 열\n",
        "arr = np.arange(1,13).reshape(3,4)"
      ],
      "metadata": {
        "id": "_oymljAJXgU1"
      },
      "execution_count": 62,
      "outputs": []
    },
    {
      "cell_type": "code",
      "source": [
        "#2 sum\n",
        "print(arr)\n",
        "print(arr.sum())\n",
        "print(arr.sum(axis=0)) # 행기준으로 덧셈\n",
        "print(arr.sum(axis=1)) # 열기준으로 덧셈"
      ],
      "metadata": {
        "colab": {
          "base_uri": "https://localhost:8080/"
        },
        "id": "K24dpwNRZ8jX",
        "outputId": "9fe12034-083f-40da-d09f-e6f41062c7db"
      },
      "execution_count": 63,
      "outputs": [
        {
          "output_type": "stream",
          "name": "stdout",
          "text": [
            "[[ 1  2  3  4]\n",
            " [ 5  6  7  8]\n",
            " [ 9 10 11 12]]\n",
            "78\n",
            "[15 18 21 24]\n",
            "[10 26 42]\n"
          ]
        }
      ]
    },
    {
      "cell_type": "code",
      "source": [
        "#2 mean : 평균\n",
        "print(arr)\n",
        "print(arr.mean())\n",
        "print(arr.mean(axis=0)) # 행기준으로 평균\n",
        "print(arr.mean(axis=1)) # 열기준으로 평균"
      ],
      "metadata": {
        "colab": {
          "base_uri": "https://localhost:8080/"
        },
        "id": "wIW9F78pYxW1",
        "outputId": "7e3b40e1-aef1-4d17-ff2d-960285d3ef3f"
      },
      "execution_count": 64,
      "outputs": [
        {
          "output_type": "stream",
          "name": "stdout",
          "text": [
            "[[ 1  2  3  4]\n",
            " [ 5  6  7  8]\n",
            " [ 9 10 11 12]]\n",
            "6.5\n",
            "[5. 6. 7. 8.]\n",
            "[ 2.5  6.5 10.5]\n"
          ]
        }
      ]
    },
    {
      "cell_type": "code",
      "source": [
        "#3 min, max : 최소값, 최대값\n",
        "np.random.seed(123)\n",
        "arr = np.random.permutation(np.arange(1,13)).reshape(3,4)\n",
        "print(arr)\n",
        "print(arr.min())\n",
        "print(arr.min(axis=0)) # 행기준으로 최소값\n",
        "print(arr.min(axis=1)) # 열기준으로 최소값"
      ],
      "metadata": {
        "colab": {
          "base_uri": "https://localhost:8080/"
        },
        "id": "1dIxxEHMaUT-",
        "outputId": "f4783a21-95a4-4084-ab73-fba30da6a43b"
      },
      "execution_count": 67,
      "outputs": [
        {
          "output_type": "stream",
          "name": "stdout",
          "text": [
            "[[ 6  1  5 10]\n",
            " [ 9  8 11  4]\n",
            " [ 2  7 12  3]]\n",
            "1\n",
            "[2 1 5 3]\n",
            "[1 4 2]\n"
          ]
        }
      ]
    },
    {
      "cell_type": "code",
      "source": [
        "#4 var,std : 분산, 표준편차\n",
        "arr = np.arange(1,13).reshape(3,4)\n",
        "print(arr)\n",
        "print(arr.var())\n",
        "print(arr.var(axis=0)) # 행기준으로 분산\n",
        "print(arr.var(axis=1)) # 열기준으로 분산\n",
        "print(arr.std())\n",
        "print(arr.std(axis=0)) # 행기준으로 표준편차\n",
        "print(arr.std(axis=1)) # 열기준으로 표준편차"
      ],
      "metadata": {
        "colab": {
          "base_uri": "https://localhost:8080/"
        },
        "id": "6Qa22zvAbaDO",
        "outputId": "e6aaab6a-e13c-452b-e1c3-e1ac6059eb8c"
      },
      "execution_count": 68,
      "outputs": [
        {
          "output_type": "stream",
          "name": "stdout",
          "text": [
            "[[ 1  2  3  4]\n",
            " [ 5  6  7  8]\n",
            " [ 9 10 11 12]]\n",
            "11.916666666666666\n",
            "[10.66666667 10.66666667 10.66666667 10.66666667]\n",
            "[1.25 1.25 1.25]\n",
            "3.452052529534663\n",
            "[3.26598632 3.26598632 3.26598632 3.26598632]\n",
            "[1.11803399 1.11803399 1.11803399]\n"
          ]
        }
      ]
    },
    {
      "cell_type": "markdown",
      "source": [
        "# **입출력**\n",
        "\n",
        "1.  save\n",
        "2.  load\n",
        "3.  savez"
      ],
      "metadata": {
        "id": "Rc5pm0lCdVuC"
      }
    },
    {
      "cell_type": "code",
      "source": [
        "#1. save\n",
        "arr = np.arange(10)\n",
        "np.save('test.npy',arr)"
      ],
      "metadata": {
        "id": "NgZhmX9Gdagd"
      },
      "execution_count": 91,
      "outputs": []
    },
    {
      "cell_type": "code",
      "source": [
        "#2. load\n",
        "arr = np.load('test.npy')\n",
        "print(arr)"
      ],
      "metadata": {
        "colab": {
          "base_uri": "https://localhost:8080/"
        },
        "id": "UR9FbVt4djhf",
        "outputId": "17418fd2-7103-4953-ad8b-babcf1783b04"
      },
      "execution_count": 92,
      "outputs": [
        {
          "output_type": "stream",
          "name": "stdout",
          "text": [
            "[0 1 2 3 4 5 6 7 8 9]\n"
          ]
        }
      ]
    },
    {
      "cell_type": "code",
      "source": [
        "#3 savez : 다중 배열 저장\n",
        "arr1 = np.arange(10)\n",
        "arr2 = np.arange(10,20)\n",
        "\n",
        "np.savez('test2', a1=arr1, a2=arr2)\n",
        "loaded_arr = np.load('test2.npz')\n",
        "\n",
        "print(loaded_arr['a1'])\n",
        "print(loaded_arr['a2'])"
      ],
      "metadata": {
        "colab": {
          "base_uri": "https://localhost:8080/"
        },
        "id": "s-xXBcuqdmdQ",
        "outputId": "e1e77985-0326-4b39-a28a-12fc5772adf0"
      },
      "execution_count": 94,
      "outputs": [
        {
          "output_type": "stream",
          "name": "stdout",
          "text": [
            "[0 1 2 3 4 5 6 7 8 9]\n",
            "[10 11 12 13 14 15 16 17 18 19]\n"
          ]
        }
      ]
    }
  ]
}